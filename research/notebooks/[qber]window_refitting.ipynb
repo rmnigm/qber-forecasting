{
  "nbformat": 4,
  "nbformat_minor": 0,
  "metadata": {
    "colab": {
      "provenance": [],
      "collapsed_sections": [
        "VirVmSsFJ2-w"
      ]
    },
    "kernelspec": {
      "name": "python3",
      "display_name": "Python 3"
    },
    "language_info": {
      "name": "python"
    },
    "widgets": {
      "application/vnd.jupyter.widget-state+json": {
        "9fe2aa5c7577451fa149f4f13b3e0ae8": {
          "model_module": "@jupyter-widgets/controls",
          "model_name": "HBoxModel",
          "model_module_version": "1.5.0",
          "state": {
            "_dom_classes": [],
            "_model_module": "@jupyter-widgets/controls",
            "_model_module_version": "1.5.0",
            "_model_name": "HBoxModel",
            "_view_count": null,
            "_view_module": "@jupyter-widgets/controls",
            "_view_module_version": "1.5.0",
            "_view_name": "HBoxView",
            "box_style": "",
            "children": [
              "IPY_MODEL_7fca2b46b25142dbb7870108c422eb8a",
              "IPY_MODEL_50b3c5bef8074301bf0cd50146d9db2c",
              "IPY_MODEL_f22f780435eb476ca10fecf989ad2953"
            ],
            "layout": "IPY_MODEL_74b80fa70ca54aeab414fca4709fdfa1"
          }
        },
        "7fca2b46b25142dbb7870108c422eb8a": {
          "model_module": "@jupyter-widgets/controls",
          "model_name": "HTMLModel",
          "model_module_version": "1.5.0",
          "state": {
            "_dom_classes": [],
            "_model_module": "@jupyter-widgets/controls",
            "_model_module_version": "1.5.0",
            "_model_name": "HTMLModel",
            "_view_count": null,
            "_view_module": "@jupyter-widgets/controls",
            "_view_module_version": "1.5.0",
            "_view_name": "HTMLView",
            "description": "",
            "description_tooltip": null,
            "layout": "IPY_MODEL_a064b683a1bb40a291ccd7c76f154929",
            "placeholder": "​",
            "style": "IPY_MODEL_52e795d5801c4b5391e9ac908b65e122",
            "value": "100%"
          }
        },
        "50b3c5bef8074301bf0cd50146d9db2c": {
          "model_module": "@jupyter-widgets/controls",
          "model_name": "FloatProgressModel",
          "model_module_version": "1.5.0",
          "state": {
            "_dom_classes": [],
            "_model_module": "@jupyter-widgets/controls",
            "_model_module_version": "1.5.0",
            "_model_name": "FloatProgressModel",
            "_view_count": null,
            "_view_module": "@jupyter-widgets/controls",
            "_view_module_version": "1.5.0",
            "_view_name": "ProgressView",
            "bar_style": "success",
            "description": "",
            "description_tooltip": null,
            "layout": "IPY_MODEL_cd1787e9cba6426bbe67942018019b7a",
            "max": 18,
            "min": 0,
            "orientation": "horizontal",
            "style": "IPY_MODEL_15723158355344e582f45b7405bfbd74",
            "value": 18
          }
        },
        "f22f780435eb476ca10fecf989ad2953": {
          "model_module": "@jupyter-widgets/controls",
          "model_name": "HTMLModel",
          "model_module_version": "1.5.0",
          "state": {
            "_dom_classes": [],
            "_model_module": "@jupyter-widgets/controls",
            "_model_module_version": "1.5.0",
            "_model_name": "HTMLModel",
            "_view_count": null,
            "_view_module": "@jupyter-widgets/controls",
            "_view_module_version": "1.5.0",
            "_view_name": "HTMLView",
            "description": "",
            "description_tooltip": null,
            "layout": "IPY_MODEL_5c4e6d9bde1b44faab8d8745187e5dca",
            "placeholder": "​",
            "style": "IPY_MODEL_bfd1e182c3ba4cdb907e32c8ce263c98",
            "value": " 18/18 [00:08&lt;00:00,  2.24it/s]"
          }
        },
        "74b80fa70ca54aeab414fca4709fdfa1": {
          "model_module": "@jupyter-widgets/base",
          "model_name": "LayoutModel",
          "model_module_version": "1.2.0",
          "state": {
            "_model_module": "@jupyter-widgets/base",
            "_model_module_version": "1.2.0",
            "_model_name": "LayoutModel",
            "_view_count": null,
            "_view_module": "@jupyter-widgets/base",
            "_view_module_version": "1.2.0",
            "_view_name": "LayoutView",
            "align_content": null,
            "align_items": null,
            "align_self": null,
            "border": null,
            "bottom": null,
            "display": null,
            "flex": null,
            "flex_flow": null,
            "grid_area": null,
            "grid_auto_columns": null,
            "grid_auto_flow": null,
            "grid_auto_rows": null,
            "grid_column": null,
            "grid_gap": null,
            "grid_row": null,
            "grid_template_areas": null,
            "grid_template_columns": null,
            "grid_template_rows": null,
            "height": null,
            "justify_content": null,
            "justify_items": null,
            "left": null,
            "margin": null,
            "max_height": null,
            "max_width": null,
            "min_height": null,
            "min_width": null,
            "object_fit": null,
            "object_position": null,
            "order": null,
            "overflow": null,
            "overflow_x": null,
            "overflow_y": null,
            "padding": null,
            "right": null,
            "top": null,
            "visibility": null,
            "width": null
          }
        },
        "a064b683a1bb40a291ccd7c76f154929": {
          "model_module": "@jupyter-widgets/base",
          "model_name": "LayoutModel",
          "model_module_version": "1.2.0",
          "state": {
            "_model_module": "@jupyter-widgets/base",
            "_model_module_version": "1.2.0",
            "_model_name": "LayoutModel",
            "_view_count": null,
            "_view_module": "@jupyter-widgets/base",
            "_view_module_version": "1.2.0",
            "_view_name": "LayoutView",
            "align_content": null,
            "align_items": null,
            "align_self": null,
            "border": null,
            "bottom": null,
            "display": null,
            "flex": null,
            "flex_flow": null,
            "grid_area": null,
            "grid_auto_columns": null,
            "grid_auto_flow": null,
            "grid_auto_rows": null,
            "grid_column": null,
            "grid_gap": null,
            "grid_row": null,
            "grid_template_areas": null,
            "grid_template_columns": null,
            "grid_template_rows": null,
            "height": null,
            "justify_content": null,
            "justify_items": null,
            "left": null,
            "margin": null,
            "max_height": null,
            "max_width": null,
            "min_height": null,
            "min_width": null,
            "object_fit": null,
            "object_position": null,
            "order": null,
            "overflow": null,
            "overflow_x": null,
            "overflow_y": null,
            "padding": null,
            "right": null,
            "top": null,
            "visibility": null,
            "width": null
          }
        },
        "52e795d5801c4b5391e9ac908b65e122": {
          "model_module": "@jupyter-widgets/controls",
          "model_name": "DescriptionStyleModel",
          "model_module_version": "1.5.0",
          "state": {
            "_model_module": "@jupyter-widgets/controls",
            "_model_module_version": "1.5.0",
            "_model_name": "DescriptionStyleModel",
            "_view_count": null,
            "_view_module": "@jupyter-widgets/base",
            "_view_module_version": "1.2.0",
            "_view_name": "StyleView",
            "description_width": ""
          }
        },
        "cd1787e9cba6426bbe67942018019b7a": {
          "model_module": "@jupyter-widgets/base",
          "model_name": "LayoutModel",
          "model_module_version": "1.2.0",
          "state": {
            "_model_module": "@jupyter-widgets/base",
            "_model_module_version": "1.2.0",
            "_model_name": "LayoutModel",
            "_view_count": null,
            "_view_module": "@jupyter-widgets/base",
            "_view_module_version": "1.2.0",
            "_view_name": "LayoutView",
            "align_content": null,
            "align_items": null,
            "align_self": null,
            "border": null,
            "bottom": null,
            "display": null,
            "flex": null,
            "flex_flow": null,
            "grid_area": null,
            "grid_auto_columns": null,
            "grid_auto_flow": null,
            "grid_auto_rows": null,
            "grid_column": null,
            "grid_gap": null,
            "grid_row": null,
            "grid_template_areas": null,
            "grid_template_columns": null,
            "grid_template_rows": null,
            "height": null,
            "justify_content": null,
            "justify_items": null,
            "left": null,
            "margin": null,
            "max_height": null,
            "max_width": null,
            "min_height": null,
            "min_width": null,
            "object_fit": null,
            "object_position": null,
            "order": null,
            "overflow": null,
            "overflow_x": null,
            "overflow_y": null,
            "padding": null,
            "right": null,
            "top": null,
            "visibility": null,
            "width": null
          }
        },
        "15723158355344e582f45b7405bfbd74": {
          "model_module": "@jupyter-widgets/controls",
          "model_name": "ProgressStyleModel",
          "model_module_version": "1.5.0",
          "state": {
            "_model_module": "@jupyter-widgets/controls",
            "_model_module_version": "1.5.0",
            "_model_name": "ProgressStyleModel",
            "_view_count": null,
            "_view_module": "@jupyter-widgets/base",
            "_view_module_version": "1.2.0",
            "_view_name": "StyleView",
            "bar_color": null,
            "description_width": ""
          }
        },
        "5c4e6d9bde1b44faab8d8745187e5dca": {
          "model_module": "@jupyter-widgets/base",
          "model_name": "LayoutModel",
          "model_module_version": "1.2.0",
          "state": {
            "_model_module": "@jupyter-widgets/base",
            "_model_module_version": "1.2.0",
            "_model_name": "LayoutModel",
            "_view_count": null,
            "_view_module": "@jupyter-widgets/base",
            "_view_module_version": "1.2.0",
            "_view_name": "LayoutView",
            "align_content": null,
            "align_items": null,
            "align_self": null,
            "border": null,
            "bottom": null,
            "display": null,
            "flex": null,
            "flex_flow": null,
            "grid_area": null,
            "grid_auto_columns": null,
            "grid_auto_flow": null,
            "grid_auto_rows": null,
            "grid_column": null,
            "grid_gap": null,
            "grid_row": null,
            "grid_template_areas": null,
            "grid_template_columns": null,
            "grid_template_rows": null,
            "height": null,
            "justify_content": null,
            "justify_items": null,
            "left": null,
            "margin": null,
            "max_height": null,
            "max_width": null,
            "min_height": null,
            "min_width": null,
            "object_fit": null,
            "object_position": null,
            "order": null,
            "overflow": null,
            "overflow_x": null,
            "overflow_y": null,
            "padding": null,
            "right": null,
            "top": null,
            "visibility": null,
            "width": null
          }
        },
        "bfd1e182c3ba4cdb907e32c8ce263c98": {
          "model_module": "@jupyter-widgets/controls",
          "model_name": "DescriptionStyleModel",
          "model_module_version": "1.5.0",
          "state": {
            "_model_module": "@jupyter-widgets/controls",
            "_model_module_version": "1.5.0",
            "_model_name": "DescriptionStyleModel",
            "_view_count": null,
            "_view_module": "@jupyter-widgets/base",
            "_view_module_version": "1.2.0",
            "_view_name": "StyleView",
            "description_width": ""
          }
        },
        "28ae742ee6904de7a5f0cc17a5c903fb": {
          "model_module": "@jupyter-widgets/controls",
          "model_name": "HBoxModel",
          "model_module_version": "1.5.0",
          "state": {
            "_dom_classes": [],
            "_model_module": "@jupyter-widgets/controls",
            "_model_module_version": "1.5.0",
            "_model_name": "HBoxModel",
            "_view_count": null,
            "_view_module": "@jupyter-widgets/controls",
            "_view_module_version": "1.5.0",
            "_view_name": "HBoxView",
            "box_style": "",
            "children": [
              "IPY_MODEL_357442b308084ae89f19796b7c59ca44",
              "IPY_MODEL_972079cb8a63421e8d83d2af859d804f",
              "IPY_MODEL_d70483b8a21e489c93e9c20959b544ba"
            ],
            "layout": "IPY_MODEL_608a713288b84c6d8d02ba3223c464b8"
          }
        },
        "357442b308084ae89f19796b7c59ca44": {
          "model_module": "@jupyter-widgets/controls",
          "model_name": "HTMLModel",
          "model_module_version": "1.5.0",
          "state": {
            "_dom_classes": [],
            "_model_module": "@jupyter-widgets/controls",
            "_model_module_version": "1.5.0",
            "_model_name": "HTMLModel",
            "_view_count": null,
            "_view_module": "@jupyter-widgets/controls",
            "_view_module_version": "1.5.0",
            "_view_name": "HTMLView",
            "description": "",
            "description_tooltip": null,
            "layout": "IPY_MODEL_2def1ee1e7bc41c49558d6368376ed22",
            "placeholder": "​",
            "style": "IPY_MODEL_1b280abbadd248a5bfd7ee0afc455e6c",
            "value": "100%"
          }
        },
        "972079cb8a63421e8d83d2af859d804f": {
          "model_module": "@jupyter-widgets/controls",
          "model_name": "FloatProgressModel",
          "model_module_version": "1.5.0",
          "state": {
            "_dom_classes": [],
            "_model_module": "@jupyter-widgets/controls",
            "_model_module_version": "1.5.0",
            "_model_name": "FloatProgressModel",
            "_view_count": null,
            "_view_module": "@jupyter-widgets/controls",
            "_view_module_version": "1.5.0",
            "_view_name": "ProgressView",
            "bar_style": "success",
            "description": "",
            "description_tooltip": null,
            "layout": "IPY_MODEL_9b9f22f3586a47abb995333ae1627953",
            "max": 17,
            "min": 0,
            "orientation": "horizontal",
            "style": "IPY_MODEL_bed898c1af07476faab94067b8be1211",
            "value": 17
          }
        },
        "d70483b8a21e489c93e9c20959b544ba": {
          "model_module": "@jupyter-widgets/controls",
          "model_name": "HTMLModel",
          "model_module_version": "1.5.0",
          "state": {
            "_dom_classes": [],
            "_model_module": "@jupyter-widgets/controls",
            "_model_module_version": "1.5.0",
            "_model_name": "HTMLModel",
            "_view_count": null,
            "_view_module": "@jupyter-widgets/controls",
            "_view_module_version": "1.5.0",
            "_view_name": "HTMLView",
            "description": "",
            "description_tooltip": null,
            "layout": "IPY_MODEL_a434fa9d07644ae18c6baea84c949752",
            "placeholder": "​",
            "style": "IPY_MODEL_640071ffe1264f0b9fdd5acac3c6443d",
            "value": " 17/17 [02:20&lt;00:00,  7.57s/it]"
          }
        },
        "608a713288b84c6d8d02ba3223c464b8": {
          "model_module": "@jupyter-widgets/base",
          "model_name": "LayoutModel",
          "model_module_version": "1.2.0",
          "state": {
            "_model_module": "@jupyter-widgets/base",
            "_model_module_version": "1.2.0",
            "_model_name": "LayoutModel",
            "_view_count": null,
            "_view_module": "@jupyter-widgets/base",
            "_view_module_version": "1.2.0",
            "_view_name": "LayoutView",
            "align_content": null,
            "align_items": null,
            "align_self": null,
            "border": null,
            "bottom": null,
            "display": null,
            "flex": null,
            "flex_flow": null,
            "grid_area": null,
            "grid_auto_columns": null,
            "grid_auto_flow": null,
            "grid_auto_rows": null,
            "grid_column": null,
            "grid_gap": null,
            "grid_row": null,
            "grid_template_areas": null,
            "grid_template_columns": null,
            "grid_template_rows": null,
            "height": null,
            "justify_content": null,
            "justify_items": null,
            "left": null,
            "margin": null,
            "max_height": null,
            "max_width": null,
            "min_height": null,
            "min_width": null,
            "object_fit": null,
            "object_position": null,
            "order": null,
            "overflow": null,
            "overflow_x": null,
            "overflow_y": null,
            "padding": null,
            "right": null,
            "top": null,
            "visibility": null,
            "width": null
          }
        },
        "2def1ee1e7bc41c49558d6368376ed22": {
          "model_module": "@jupyter-widgets/base",
          "model_name": "LayoutModel",
          "model_module_version": "1.2.0",
          "state": {
            "_model_module": "@jupyter-widgets/base",
            "_model_module_version": "1.2.0",
            "_model_name": "LayoutModel",
            "_view_count": null,
            "_view_module": "@jupyter-widgets/base",
            "_view_module_version": "1.2.0",
            "_view_name": "LayoutView",
            "align_content": null,
            "align_items": null,
            "align_self": null,
            "border": null,
            "bottom": null,
            "display": null,
            "flex": null,
            "flex_flow": null,
            "grid_area": null,
            "grid_auto_columns": null,
            "grid_auto_flow": null,
            "grid_auto_rows": null,
            "grid_column": null,
            "grid_gap": null,
            "grid_row": null,
            "grid_template_areas": null,
            "grid_template_columns": null,
            "grid_template_rows": null,
            "height": null,
            "justify_content": null,
            "justify_items": null,
            "left": null,
            "margin": null,
            "max_height": null,
            "max_width": null,
            "min_height": null,
            "min_width": null,
            "object_fit": null,
            "object_position": null,
            "order": null,
            "overflow": null,
            "overflow_x": null,
            "overflow_y": null,
            "padding": null,
            "right": null,
            "top": null,
            "visibility": null,
            "width": null
          }
        },
        "1b280abbadd248a5bfd7ee0afc455e6c": {
          "model_module": "@jupyter-widgets/controls",
          "model_name": "DescriptionStyleModel",
          "model_module_version": "1.5.0",
          "state": {
            "_model_module": "@jupyter-widgets/controls",
            "_model_module_version": "1.5.0",
            "_model_name": "DescriptionStyleModel",
            "_view_count": null,
            "_view_module": "@jupyter-widgets/base",
            "_view_module_version": "1.2.0",
            "_view_name": "StyleView",
            "description_width": ""
          }
        },
        "9b9f22f3586a47abb995333ae1627953": {
          "model_module": "@jupyter-widgets/base",
          "model_name": "LayoutModel",
          "model_module_version": "1.2.0",
          "state": {
            "_model_module": "@jupyter-widgets/base",
            "_model_module_version": "1.2.0",
            "_model_name": "LayoutModel",
            "_view_count": null,
            "_view_module": "@jupyter-widgets/base",
            "_view_module_version": "1.2.0",
            "_view_name": "LayoutView",
            "align_content": null,
            "align_items": null,
            "align_self": null,
            "border": null,
            "bottom": null,
            "display": null,
            "flex": null,
            "flex_flow": null,
            "grid_area": null,
            "grid_auto_columns": null,
            "grid_auto_flow": null,
            "grid_auto_rows": null,
            "grid_column": null,
            "grid_gap": null,
            "grid_row": null,
            "grid_template_areas": null,
            "grid_template_columns": null,
            "grid_template_rows": null,
            "height": null,
            "justify_content": null,
            "justify_items": null,
            "left": null,
            "margin": null,
            "max_height": null,
            "max_width": null,
            "min_height": null,
            "min_width": null,
            "object_fit": null,
            "object_position": null,
            "order": null,
            "overflow": null,
            "overflow_x": null,
            "overflow_y": null,
            "padding": null,
            "right": null,
            "top": null,
            "visibility": null,
            "width": null
          }
        },
        "bed898c1af07476faab94067b8be1211": {
          "model_module": "@jupyter-widgets/controls",
          "model_name": "ProgressStyleModel",
          "model_module_version": "1.5.0",
          "state": {
            "_model_module": "@jupyter-widgets/controls",
            "_model_module_version": "1.5.0",
            "_model_name": "ProgressStyleModel",
            "_view_count": null,
            "_view_module": "@jupyter-widgets/base",
            "_view_module_version": "1.2.0",
            "_view_name": "StyleView",
            "bar_color": null,
            "description_width": ""
          }
        },
        "a434fa9d07644ae18c6baea84c949752": {
          "model_module": "@jupyter-widgets/base",
          "model_name": "LayoutModel",
          "model_module_version": "1.2.0",
          "state": {
            "_model_module": "@jupyter-widgets/base",
            "_model_module_version": "1.2.0",
            "_model_name": "LayoutModel",
            "_view_count": null,
            "_view_module": "@jupyter-widgets/base",
            "_view_module_version": "1.2.0",
            "_view_name": "LayoutView",
            "align_content": null,
            "align_items": null,
            "align_self": null,
            "border": null,
            "bottom": null,
            "display": null,
            "flex": null,
            "flex_flow": null,
            "grid_area": null,
            "grid_auto_columns": null,
            "grid_auto_flow": null,
            "grid_auto_rows": null,
            "grid_column": null,
            "grid_gap": null,
            "grid_row": null,
            "grid_template_areas": null,
            "grid_template_columns": null,
            "grid_template_rows": null,
            "height": null,
            "justify_content": null,
            "justify_items": null,
            "left": null,
            "margin": null,
            "max_height": null,
            "max_width": null,
            "min_height": null,
            "min_width": null,
            "object_fit": null,
            "object_position": null,
            "order": null,
            "overflow": null,
            "overflow_x": null,
            "overflow_y": null,
            "padding": null,
            "right": null,
            "top": null,
            "visibility": null,
            "width": null
          }
        },
        "640071ffe1264f0b9fdd5acac3c6443d": {
          "model_module": "@jupyter-widgets/controls",
          "model_name": "DescriptionStyleModel",
          "model_module_version": "1.5.0",
          "state": {
            "_model_module": "@jupyter-widgets/controls",
            "_model_module_version": "1.5.0",
            "_model_name": "DescriptionStyleModel",
            "_view_count": null,
            "_view_module": "@jupyter-widgets/base",
            "_view_module_version": "1.2.0",
            "_view_name": "StyleView",
            "description_width": ""
          }
        },
        "b53342624e9c4bb6809e454bd876bcfd": {
          "model_module": "@jupyter-widgets/controls",
          "model_name": "HBoxModel",
          "model_module_version": "1.5.0",
          "state": {
            "_dom_classes": [],
            "_model_module": "@jupyter-widgets/controls",
            "_model_module_version": "1.5.0",
            "_model_name": "HBoxModel",
            "_view_count": null,
            "_view_module": "@jupyter-widgets/controls",
            "_view_module_version": "1.5.0",
            "_view_name": "HBoxView",
            "box_style": "",
            "children": [
              "IPY_MODEL_89e1ae5387e34fb08f6966dff3dd766f",
              "IPY_MODEL_1d3a691eb5ba48b9886ee544ea4daaad",
              "IPY_MODEL_068bf7066b6d496992d4f97a73385f69"
            ],
            "layout": "IPY_MODEL_579ac1af0cfc41899fd4096d2b630757"
          }
        },
        "89e1ae5387e34fb08f6966dff3dd766f": {
          "model_module": "@jupyter-widgets/controls",
          "model_name": "HTMLModel",
          "model_module_version": "1.5.0",
          "state": {
            "_dom_classes": [],
            "_model_module": "@jupyter-widgets/controls",
            "_model_module_version": "1.5.0",
            "_model_name": "HTMLModel",
            "_view_count": null,
            "_view_module": "@jupyter-widgets/controls",
            "_view_module_version": "1.5.0",
            "_view_name": "HTMLView",
            "description": "",
            "description_tooltip": null,
            "layout": "IPY_MODEL_d67b20775bd44b1eaffb2d99b6978327",
            "placeholder": "​",
            "style": "IPY_MODEL_6d3982932e5a4cb3a3a71f895eafebc8",
            "value": "100%"
          }
        },
        "1d3a691eb5ba48b9886ee544ea4daaad": {
          "model_module": "@jupyter-widgets/controls",
          "model_name": "FloatProgressModel",
          "model_module_version": "1.5.0",
          "state": {
            "_dom_classes": [],
            "_model_module": "@jupyter-widgets/controls",
            "_model_module_version": "1.5.0",
            "_model_name": "FloatProgressModel",
            "_view_count": null,
            "_view_module": "@jupyter-widgets/controls",
            "_view_module_version": "1.5.0",
            "_view_name": "ProgressView",
            "bar_style": "success",
            "description": "",
            "description_tooltip": null,
            "layout": "IPY_MODEL_b43a64e5ddb84a6483028368ab567e87",
            "max": 17,
            "min": 0,
            "orientation": "horizontal",
            "style": "IPY_MODEL_827c9fc129fd4117b803b122b99cedf7",
            "value": 17
          }
        },
        "068bf7066b6d496992d4f97a73385f69": {
          "model_module": "@jupyter-widgets/controls",
          "model_name": "HTMLModel",
          "model_module_version": "1.5.0",
          "state": {
            "_dom_classes": [],
            "_model_module": "@jupyter-widgets/controls",
            "_model_module_version": "1.5.0",
            "_model_name": "HTMLModel",
            "_view_count": null,
            "_view_module": "@jupyter-widgets/controls",
            "_view_module_version": "1.5.0",
            "_view_name": "HTMLView",
            "description": "",
            "description_tooltip": null,
            "layout": "IPY_MODEL_ab9b2a10591d473a8f996e189b2c03c0",
            "placeholder": "​",
            "style": "IPY_MODEL_bb2d4086066c4f9ca06f0bacd68183bd",
            "value": " 17/17 [00:00&lt;00:00, 136.01it/s]"
          }
        },
        "579ac1af0cfc41899fd4096d2b630757": {
          "model_module": "@jupyter-widgets/base",
          "model_name": "LayoutModel",
          "model_module_version": "1.2.0",
          "state": {
            "_model_module": "@jupyter-widgets/base",
            "_model_module_version": "1.2.0",
            "_model_name": "LayoutModel",
            "_view_count": null,
            "_view_module": "@jupyter-widgets/base",
            "_view_module_version": "1.2.0",
            "_view_name": "LayoutView",
            "align_content": null,
            "align_items": null,
            "align_self": null,
            "border": null,
            "bottom": null,
            "display": null,
            "flex": null,
            "flex_flow": null,
            "grid_area": null,
            "grid_auto_columns": null,
            "grid_auto_flow": null,
            "grid_auto_rows": null,
            "grid_column": null,
            "grid_gap": null,
            "grid_row": null,
            "grid_template_areas": null,
            "grid_template_columns": null,
            "grid_template_rows": null,
            "height": null,
            "justify_content": null,
            "justify_items": null,
            "left": null,
            "margin": null,
            "max_height": null,
            "max_width": null,
            "min_height": null,
            "min_width": null,
            "object_fit": null,
            "object_position": null,
            "order": null,
            "overflow": null,
            "overflow_x": null,
            "overflow_y": null,
            "padding": null,
            "right": null,
            "top": null,
            "visibility": null,
            "width": null
          }
        },
        "d67b20775bd44b1eaffb2d99b6978327": {
          "model_module": "@jupyter-widgets/base",
          "model_name": "LayoutModel",
          "model_module_version": "1.2.0",
          "state": {
            "_model_module": "@jupyter-widgets/base",
            "_model_module_version": "1.2.0",
            "_model_name": "LayoutModel",
            "_view_count": null,
            "_view_module": "@jupyter-widgets/base",
            "_view_module_version": "1.2.0",
            "_view_name": "LayoutView",
            "align_content": null,
            "align_items": null,
            "align_self": null,
            "border": null,
            "bottom": null,
            "display": null,
            "flex": null,
            "flex_flow": null,
            "grid_area": null,
            "grid_auto_columns": null,
            "grid_auto_flow": null,
            "grid_auto_rows": null,
            "grid_column": null,
            "grid_gap": null,
            "grid_row": null,
            "grid_template_areas": null,
            "grid_template_columns": null,
            "grid_template_rows": null,
            "height": null,
            "justify_content": null,
            "justify_items": null,
            "left": null,
            "margin": null,
            "max_height": null,
            "max_width": null,
            "min_height": null,
            "min_width": null,
            "object_fit": null,
            "object_position": null,
            "order": null,
            "overflow": null,
            "overflow_x": null,
            "overflow_y": null,
            "padding": null,
            "right": null,
            "top": null,
            "visibility": null,
            "width": null
          }
        },
        "6d3982932e5a4cb3a3a71f895eafebc8": {
          "model_module": "@jupyter-widgets/controls",
          "model_name": "DescriptionStyleModel",
          "model_module_version": "1.5.0",
          "state": {
            "_model_module": "@jupyter-widgets/controls",
            "_model_module_version": "1.5.0",
            "_model_name": "DescriptionStyleModel",
            "_view_count": null,
            "_view_module": "@jupyter-widgets/base",
            "_view_module_version": "1.2.0",
            "_view_name": "StyleView",
            "description_width": ""
          }
        },
        "b43a64e5ddb84a6483028368ab567e87": {
          "model_module": "@jupyter-widgets/base",
          "model_name": "LayoutModel",
          "model_module_version": "1.2.0",
          "state": {
            "_model_module": "@jupyter-widgets/base",
            "_model_module_version": "1.2.0",
            "_model_name": "LayoutModel",
            "_view_count": null,
            "_view_module": "@jupyter-widgets/base",
            "_view_module_version": "1.2.0",
            "_view_name": "LayoutView",
            "align_content": null,
            "align_items": null,
            "align_self": null,
            "border": null,
            "bottom": null,
            "display": null,
            "flex": null,
            "flex_flow": null,
            "grid_area": null,
            "grid_auto_columns": null,
            "grid_auto_flow": null,
            "grid_auto_rows": null,
            "grid_column": null,
            "grid_gap": null,
            "grid_row": null,
            "grid_template_areas": null,
            "grid_template_columns": null,
            "grid_template_rows": null,
            "height": null,
            "justify_content": null,
            "justify_items": null,
            "left": null,
            "margin": null,
            "max_height": null,
            "max_width": null,
            "min_height": null,
            "min_width": null,
            "object_fit": null,
            "object_position": null,
            "order": null,
            "overflow": null,
            "overflow_x": null,
            "overflow_y": null,
            "padding": null,
            "right": null,
            "top": null,
            "visibility": null,
            "width": null
          }
        },
        "827c9fc129fd4117b803b122b99cedf7": {
          "model_module": "@jupyter-widgets/controls",
          "model_name": "ProgressStyleModel",
          "model_module_version": "1.5.0",
          "state": {
            "_model_module": "@jupyter-widgets/controls",
            "_model_module_version": "1.5.0",
            "_model_name": "ProgressStyleModel",
            "_view_count": null,
            "_view_module": "@jupyter-widgets/base",
            "_view_module_version": "1.2.0",
            "_view_name": "StyleView",
            "bar_color": null,
            "description_width": ""
          }
        },
        "ab9b2a10591d473a8f996e189b2c03c0": {
          "model_module": "@jupyter-widgets/base",
          "model_name": "LayoutModel",
          "model_module_version": "1.2.0",
          "state": {
            "_model_module": "@jupyter-widgets/base",
            "_model_module_version": "1.2.0",
            "_model_name": "LayoutModel",
            "_view_count": null,
            "_view_module": "@jupyter-widgets/base",
            "_view_module_version": "1.2.0",
            "_view_name": "LayoutView",
            "align_content": null,
            "align_items": null,
            "align_self": null,
            "border": null,
            "bottom": null,
            "display": null,
            "flex": null,
            "flex_flow": null,
            "grid_area": null,
            "grid_auto_columns": null,
            "grid_auto_flow": null,
            "grid_auto_rows": null,
            "grid_column": null,
            "grid_gap": null,
            "grid_row": null,
            "grid_template_areas": null,
            "grid_template_columns": null,
            "grid_template_rows": null,
            "height": null,
            "justify_content": null,
            "justify_items": null,
            "left": null,
            "margin": null,
            "max_height": null,
            "max_width": null,
            "min_height": null,
            "min_width": null,
            "object_fit": null,
            "object_position": null,
            "order": null,
            "overflow": null,
            "overflow_x": null,
            "overflow_y": null,
            "padding": null,
            "right": null,
            "top": null,
            "visibility": null,
            "width": null
          }
        },
        "bb2d4086066c4f9ca06f0bacd68183bd": {
          "model_module": "@jupyter-widgets/controls",
          "model_name": "DescriptionStyleModel",
          "model_module_version": "1.5.0",
          "state": {
            "_model_module": "@jupyter-widgets/controls",
            "_model_module_version": "1.5.0",
            "_model_name": "DescriptionStyleModel",
            "_view_count": null,
            "_view_module": "@jupyter-widgets/base",
            "_view_module_version": "1.2.0",
            "_view_name": "StyleView",
            "description_width": ""
          }
        }
      }
    }
  },
  "cells": [
    {
      "cell_type": "markdown",
      "source": [
        "## Imports"
      ],
      "metadata": {
        "id": "VirVmSsFJ2-w"
      }
    },
    {
      "cell_type": "code",
      "execution_count": null,
      "metadata": {
        "id": "g1hZkLnfJtYH"
      },
      "outputs": [],
      "source": [
        "!git clone https://github.com/rmnigm/qber-forecasting.git"
      ]
    },
    {
      "cell_type": "code",
      "source": [
        "!pip install catboost"
      ],
      "metadata": {
        "id": "geZID82oqO0t"
      },
      "execution_count": null,
      "outputs": []
    },
    {
      "cell_type": "code",
      "source": [
        "import collections\n",
        "import math\n",
        "import os\n",
        "import pathlib\n",
        "import random\n",
        "\n",
        "\n",
        "import matplotlib.pyplot as plt\n",
        "import numpy as np\n",
        "import polars as pl\n",
        "import seaborn as sns\n",
        "import scipy.stats as sps\n",
        "\n",
        "import statsmodels as sm\n",
        "\n",
        "from catboost import CatBoostRegressor, Pool\n",
        "from lightgbm import LGBMRegressor\n",
        "\n",
        "from sklearn.base import BaseEstimator, RegressorMixin\n",
        "from sklearn.linear_model import LinearRegression, Ridge, Lasso\n",
        "from sklearn.metrics import r2_score, mean_squared_error, mean_absolute_percentage_error\n",
        "from sklearn.model_selection import TimeSeriesSplit, cross_validate\n",
        "from sklearn.pipeline import make_pipeline\n",
        "from sklearn.kernel_approximation import Nystroem\n",
        "from sklearn.neural_network import MLPRegressor\n",
        "from sklearn.preprocessing import RobustScaler\n",
        "\n",
        "from tqdm.notebook import tqdm\n",
        "from xgboost import XGBRegressor"
      ],
      "metadata": {
        "id": "SfE018XWJ2SS"
      },
      "execution_count": 91,
      "outputs": []
    },
    {
      "cell_type": "code",
      "source": [
        "seed = 123456\n",
        "random.seed(seed)\n",
        "np.random.seed(seed)"
      ],
      "metadata": {
        "id": "OOcZQLDpNYEV"
      },
      "execution_count": 4,
      "outputs": []
    },
    {
      "cell_type": "markdown",
      "source": [
        "## Data"
      ],
      "metadata": {
        "id": "GwUZqkh3LhpO"
      }
    },
    {
      "cell_type": "code",
      "source": [
        "from google.colab import drive\n",
        "drive.mount('/content/drive')"
      ],
      "metadata": {
        "id": "JIk96K7tNE_v",
        "colab": {
          "base_uri": "https://localhost:8080/"
        },
        "outputId": "84769386-1bd8-4994-8e59-43a0289c7652"
      },
      "execution_count": 5,
      "outputs": [
        {
          "output_type": "stream",
          "name": "stdout",
          "text": [
            "Mounted at /content/drive\n"
          ]
        }
      ]
    },
    {
      "cell_type": "code",
      "source": [
        "columns = {\n",
        "    1: 'blockId',\n",
        "    2: 'frameIdx',\n",
        "    3: 'frameError',\n",
        "    4: 'byDecoyEst',\n",
        "    5: 'byDecoyZ',\n",
        "    6: 'byVacuumZ',\n",
        "    7: 'nmuSend',\n",
        "    8: 'nnuSend',\n",
        "    9: 'nlSend',\n",
        "    10: 'nmuReg',\n",
        "    11: 'nnuReg',\n",
        "    12: 'nlReg',\n",
        "    13: 'roundDistribution',\n",
        "    14: 'maintenanceFlag',\n",
        "    16: 'ema_est',\n",
        "    17: 'ema_f_ec',\n",
        "    19: 'vema_est',\n",
        "    20: 'vema_f_ec',\n",
        "    22: 'ml_est',\n",
        "    23: 'ml_f_ec',\n",
        "    25: 'phys_est',\n",
        "    26: 'phys_f_ec',\n",
        "}"
      ],
      "metadata": {
        "id": "8sZ9elg8LgKr"
      },
      "execution_count": 6,
      "outputs": []
    },
    {
      "cell_type": "code",
      "source": [
        "data = pl.read_csv('/content/drive/MyDrive/Datasets/qber/frames_errors_12-03.csv', has_header=False)"
      ],
      "metadata": {
        "id": "u5ddTuzDLkhS"
      },
      "execution_count": 7,
      "outputs": []
    },
    {
      "cell_type": "code",
      "source": [
        "data = data[:, [k-1 for k in columns.keys()]]\n",
        "data.columns = list(columns.values())\n",
        "data = data.select(\n",
        "    pl.col('vema_f_ec').cast(float).alias('vema_f_ec'),\n",
        "    pl.col('phys_f_ec').cast(float).alias('phys_f_ec'),\n",
        "    pl.col('ema_f_ec').cast(float).alias('ema_f_ec'),\n",
        "    pl.col('ml_f_ec').cast(float).alias('ml_f_ec'),\n",
        "    pl.col('vema_est').cast(float).alias('vema_est'),\n",
        "    pl.col('phys_est').cast(float).alias('phys_est'),\n",
        "    pl.col('ema_est').cast(float).alias('ema_est'),\n",
        "    pl.col('ml_est').cast(float).alias('ml_est'),\n",
        "    pl.col('frameError').alias('qber_mu'),\n",
        "    pl.col('byDecoyEst').alias('qber_prob_model'),\n",
        "    pl.col('byDecoyZ').alias('qber_nu_1'),\n",
        "    pl.col('byVacuumZ').alias('qber_nu_2'),\n",
        "    (pl.col('nmuReg') /  pl.col('nmuSend')).alias('q_mu'),\n",
        "    (pl.col('nnuReg') /  pl.col('nnuSend')).alias('q_nu_1'),\n",
        "    (pl.col('nlReg') /  pl.col('nlSend')).alias('q_nu_2'),\n",
        "    pl.col('maintenanceFlag').alias('maintenance'),\n",
        "    (pl.col('frameError') - pl.col('ml_est')).abs().alias('ml_err'),\n",
        "    (pl.col('frameError') - pl.col('ema_est')).abs().alias('ema_err'),\n",
        "    (pl.col('frameError') - pl.col('vema_est')).abs().alias('vema_err'),\n",
        "    (pl.col('frameError') - pl.col('phys_est')).abs().alias('phys_err'),\n",
        ")\n",
        "ts = data['qber_mu']\n",
        "ema_ts = data['ema_est']"
      ],
      "metadata": {
        "id": "HtAU-ukXxWwf"
      },
      "execution_count": 8,
      "outputs": []
    },
    {
      "cell_type": "code",
      "source": [
        "def calculate_offset_limit(offset, limit, length) -> tuple[int, int]:\n",
        "    if offset is None:\n",
        "      offset = 0\n",
        "    else:\n",
        "      offset = offset if offset >= 1 else int(offset * length)\n",
        "    if limit is None:\n",
        "      limit = length\n",
        "    else:\n",
        "      limit = limit if limit >= 1 else int(limit * length)\n",
        "    return offset, limit"
      ],
      "metadata": {
        "id": "EQM4IvOALeSn"
      },
      "execution_count": 9,
      "outputs": []
    },
    {
      "cell_type": "code",
      "source": [
        "def build_from_dataframe(\n",
        "    data: pl.DataFrame,\n",
        "    window_size: int,\n",
        "    dtype: np.dtype = np.float32,\n",
        "    columns: list[str] | None = None,\n",
        "    offset: int | float = None,\n",
        "    limit: int | float = None) -> tuple[np.ndarray, np.ndarray]:\n",
        "    length = len(data)\n",
        "    offset, limit = calculate_offset_limit(offset, limit, length)\n",
        "    columns = columns or data.columns\n",
        "    data = (\n",
        "        data\n",
        "        .select(columns)\n",
        "        .slice(offset, limit)\n",
        "    )\n",
        "    data_array = data.to_numpy()\n",
        "    dataset = np.lib.stride_tricks.sliding_window_view(\n",
        "        data_array,\n",
        "        window_size + 1,\n",
        "        axis=0\n",
        "        )\n",
        "    return dataset"
      ],
      "metadata": {
        "id": "reNFJVt3OkXV"
      },
      "execution_count": 10,
      "outputs": []
    },
    {
      "cell_type": "code",
      "source": [
        "feature_columns = [\n",
        "    'qber_mu',\n",
        "    # 'q_mu',\n",
        "    # 'q_nu_1',\n",
        "    # 'q_nu_2',\n",
        "    'maintenance',\n",
        "]\n",
        "\n",
        "window_size = 7"
      ],
      "metadata": {
        "id": "p9inFlhX0DvK"
      },
      "execution_count": 45,
      "outputs": []
    },
    {
      "cell_type": "code",
      "source": [
        "train_data = build_from_dataframe(data=data, window_size=window_size, limit=0.75, columns=feature_columns)\n",
        "test_data = build_from_dataframe(data=data, window_size=window_size, offset=0.75, columns=feature_columns)\n",
        "\n",
        "train_x, train_y = train_data[:, :, :-1], train_data[:, 0, -1]\n",
        "test_x, test_y = test_data[:, :, :-1], test_data[:, 0, -1]"
      ],
      "metadata": {
        "id": "7HB3C60TPBzW"
      },
      "execution_count": 52,
      "outputs": []
    },
    {
      "cell_type": "code",
      "source": [
        "full_data = build_from_dataframe(data=data, window_size=window_size, columns=feature_columns)\n",
        "X, y = full_data[:, :, :-1], full_data[:, 0, -1]"
      ],
      "metadata": {
        "id": "z09F-OESPK5R"
      },
      "execution_count": 53,
      "outputs": []
    },
    {
      "cell_type": "code",
      "source": [
        "import scipy.stats as ss"
      ],
      "metadata": {
        "id": "0L9V1YHa1-zJ"
      },
      "execution_count": 14,
      "outputs": []
    },
    {
      "cell_type": "code",
      "source": [
        "data[['qber_mu', 'qber_prob_model', 'qber_nu_1', 'qber_nu_2', 'q_mu', 'q_nu_1', 'q_nu_2']].corr()"
      ],
      "metadata": {
        "colab": {
          "base_uri": "https://localhost:8080/",
          "height": 318
        },
        "id": "lm_raG-c0szS",
        "outputId": "09c91699-c466-41e3-8b8f-8ec8fc59ee0a"
      },
      "execution_count": 15,
      "outputs": [
        {
          "output_type": "execute_result",
          "data": {
            "text/plain": [
              "shape: (7, 7)\n",
              "┌───────────┬─────────────────┬───────────┬───────────┬───────────┬───────────┬───────────┐\n",
              "│ qber_mu   ┆ qber_prob_model ┆ qber_nu_1 ┆ qber_nu_2 ┆ q_mu      ┆ q_nu_1    ┆ q_nu_2    │\n",
              "│ ---       ┆ ---             ┆ ---       ┆ ---       ┆ ---       ┆ ---       ┆ ---       │\n",
              "│ f64       ┆ f64             ┆ f64       ┆ f64       ┆ f64       ┆ f64       ┆ f64       │\n",
              "╞═══════════╪═════════════════╪═══════════╪═══════════╪═══════════╪═══════════╪═══════════╡\n",
              "│ 1.0       ┆ -0.071362       ┆ 0.025059  ┆ 0.003316  ┆ -0.217253 ┆ -0.232522 ┆ -0.217898 │\n",
              "│ -0.071362 ┆ 1.0             ┆ 0.198341  ┆ 0.184253  ┆ -0.115986 ┆ -0.130453 ┆ -0.129976 │\n",
              "│ 0.025059  ┆ 0.198341        ┆ 1.0       ┆ 0.496225  ┆ -0.341003 ┆ -0.367585 ┆ -0.34922  │\n",
              "│ 0.003316  ┆ 0.184253        ┆ 0.496225  ┆ 1.0       ┆ -0.372281 ┆ -0.45833  ┆ -0.458868 │\n",
              "│ -0.217253 ┆ -0.115986       ┆ -0.341003 ┆ -0.372281 ┆ 1.0       ┆ 0.91173   ┆ 0.749103  │\n",
              "│ -0.232522 ┆ -0.130453       ┆ -0.367585 ┆ -0.45833  ┆ 0.91173   ┆ 1.0       ┆ 0.918665  │\n",
              "│ -0.217898 ┆ -0.129976       ┆ -0.34922  ┆ -0.458868 ┆ 0.749103  ┆ 0.918665  ┆ 1.0       │\n",
              "└───────────┴─────────────────┴───────────┴───────────┴───────────┴───────────┴───────────┘"
            ],
            "text/html": [
              "<div><style>\n",
              ".dataframe > thead > tr,\n",
              ".dataframe > tbody > tr {\n",
              "  text-align: right;\n",
              "  white-space: pre-wrap;\n",
              "}\n",
              "</style>\n",
              "<small>shape: (7, 7)</small><table border=\"1\" class=\"dataframe\"><thead><tr><th>qber_mu</th><th>qber_prob_model</th><th>qber_nu_1</th><th>qber_nu_2</th><th>q_mu</th><th>q_nu_1</th><th>q_nu_2</th></tr><tr><td>f64</td><td>f64</td><td>f64</td><td>f64</td><td>f64</td><td>f64</td><td>f64</td></tr></thead><tbody><tr><td>1.0</td><td>-0.071362</td><td>0.025059</td><td>0.003316</td><td>-0.217253</td><td>-0.232522</td><td>-0.217898</td></tr><tr><td>-0.071362</td><td>1.0</td><td>0.198341</td><td>0.184253</td><td>-0.115986</td><td>-0.130453</td><td>-0.129976</td></tr><tr><td>0.025059</td><td>0.198341</td><td>1.0</td><td>0.496225</td><td>-0.341003</td><td>-0.367585</td><td>-0.34922</td></tr><tr><td>0.003316</td><td>0.184253</td><td>0.496225</td><td>1.0</td><td>-0.372281</td><td>-0.45833</td><td>-0.458868</td></tr><tr><td>-0.217253</td><td>-0.115986</td><td>-0.341003</td><td>-0.372281</td><td>1.0</td><td>0.91173</td><td>0.749103</td></tr><tr><td>-0.232522</td><td>-0.130453</td><td>-0.367585</td><td>-0.45833</td><td>0.91173</td><td>1.0</td><td>0.918665</td></tr><tr><td>-0.217898</td><td>-0.129976</td><td>-0.34922</td><td>-0.458868</td><td>0.749103</td><td>0.918665</td><td>1.0</td></tr></tbody></table></div>"
            ]
          },
          "metadata": {},
          "execution_count": 15
        }
      ]
    },
    {
      "cell_type": "code",
      "source": [
        "ss.mannwhitneyu(\n",
        "    data['qber_mu'].filter(data['maintenance'] == 0),\n",
        "    data['qber_mu'].filter(data['maintenance'] == 1)\n",
        "    )"
      ],
      "metadata": {
        "colab": {
          "base_uri": "https://localhost:8080/"
        },
        "id": "KKkbeJOd2BH6",
        "outputId": "82a24f9a-e0b4-4ded-e8fd-269f3f559343"
      },
      "execution_count": 16,
      "outputs": [
        {
          "output_type": "execute_result",
          "data": {
            "text/plain": [
              "MannwhitneyuResult(statistic=25008263.0, pvalue=1.0563451537565548e-18)"
            ]
          },
          "metadata": {},
          "execution_count": 16
        }
      ]
    },
    {
      "cell_type": "markdown",
      "source": [
        "## Modelling"
      ],
      "metadata": {
        "id": "TkZ3rXeu0r0o"
      }
    },
    {
      "cell_type": "code",
      "source": [
        "class FeatureExtractor:\n",
        "    def __init__(self, binmask=None):\n",
        "        self.eps = 1e-10\n",
        "        self.binmask = binmask\n",
        "\n",
        "    def __call__(self, x):\n",
        "        if self.binmask is not None:\n",
        "            binary_x = x[self.binmask, :]\n",
        "            x = x[~self.binmask, :]\n",
        "        latest = x[:, -1]\n",
        "        means = x.mean(axis=1)\n",
        "        medians = np.median(x, axis=1)\n",
        "        stds = x.std(axis=1)\n",
        "        deltas = latest / (means + self.eps)\n",
        "        diffs = x.max(axis=1) - x.min(axis=1)\n",
        "        target_lags = x[0]\n",
        "        occurences = binary_x.sum(axis=1) > 0\n",
        "        statistics = np.concatenate(\n",
        "            [means, medians, stds, deltas, diffs, occurences],\n",
        "            dtype=np.float32\n",
        "            )\n",
        "        return target_lags, statistics\n",
        "\n",
        "    def build(self, X):\n",
        "        lag, stat = [], []\n",
        "        for elem in tqdm(X, total=len(X)):\n",
        "            lags, stats = self(elem)\n",
        "            lag.append(lags)\n",
        "            stat.append(stats)\n",
        "        return np.array(lag), np.array(stat)"
      ],
      "metadata": {
        "id": "F9NhTwlF1xiU"
      },
      "execution_count": null,
      "outputs": []
    },
    {
      "cell_type": "code",
      "source": [
        "import joblib\n",
        "from tqdm.auto import tqdm"
      ],
      "metadata": {
        "id": "AODn_tt5W_0P"
      },
      "execution_count": 90,
      "outputs": []
    },
    {
      "cell_type": "code",
      "source": [
        "def fit_eval(size):\n",
        "    xx_train = X[:, 0, :]\n",
        "    scores = []\n",
        "    for i in tqdm(range(int(len(xx_train) // size - 1))):\n",
        "        sl_train = slice(i*size, (i+1)*size)\n",
        "        sl_eval = slice((i+1)*size, (i+2)*size)\n",
        "        if (i+2)*size > len(xx_train):\n",
        "            break\n",
        "        model = make_pipeline(\n",
        "            Nystroem(),\n",
        "            Ridge()\n",
        "        )\n",
        "        train_pool = (xx_train[sl_train], y[sl_train])\n",
        "        eval_pool = (xx_train[sl_eval], y[sl_eval])\n",
        "        model.fit(*train_pool)\n",
        "        test_preds = model.predict(eval_pool[0])\n",
        "        scores.append(r2_score(eval_pool[1], test_preds))\n",
        "\n",
        "    return scores"
      ],
      "metadata": {
        "id": "bZQrdzGgPHVZ"
      },
      "execution_count": 93,
      "outputs": []
    },
    {
      "cell_type": "code",
      "source": [
        "%%time\n",
        "size = 20000\n",
        "ridge_scores = fit_eval(size)"
      ],
      "metadata": {
        "colab": {
          "base_uri": "https://localhost:8080/",
          "height": 85,
          "referenced_widgets": [
            "9fe2aa5c7577451fa149f4f13b3e0ae8",
            "7fca2b46b25142dbb7870108c422eb8a",
            "50b3c5bef8074301bf0cd50146d9db2c",
            "f22f780435eb476ca10fecf989ad2953",
            "74b80fa70ca54aeab414fca4709fdfa1",
            "a064b683a1bb40a291ccd7c76f154929",
            "52e795d5801c4b5391e9ac908b65e122",
            "cd1787e9cba6426bbe67942018019b7a",
            "15723158355344e582f45b7405bfbd74",
            "5c4e6d9bde1b44faab8d8745187e5dca",
            "bfd1e182c3ba4cdb907e32c8ce263c98"
          ]
        },
        "id": "yIwWOxONPXhO",
        "outputId": "5b17ef2f-6a1e-4bb9-a17c-f5f3904e47ee"
      },
      "execution_count": 94,
      "outputs": [
        {
          "output_type": "display_data",
          "data": {
            "text/plain": [
              "  0%|          | 0/18 [00:00<?, ?it/s]"
            ],
            "application/vnd.jupyter.widget-view+json": {
              "version_major": 2,
              "version_minor": 0,
              "model_id": "9fe2aa5c7577451fa149f4f13b3e0ae8"
            }
          },
          "metadata": {}
        },
        {
          "output_type": "stream",
          "name": "stdout",
          "text": [
            "CPU times: user 5.82 s, sys: 4.03 s, total: 9.86 s\n",
            "Wall time: 8.16 s\n"
          ]
        }
      ]
    },
    {
      "cell_type": "code",
      "source": [
        "def fit_eval(size):\n",
        "    xx_train = X[:, 0, :]\n",
        "    scores, feature_importance = [], []\n",
        "    for i in tqdm(range(int(len(xx_train) // size - 2))):\n",
        "        sl_train = slice(i*size, (i+1)*size)\n",
        "        sl_eval = slice((i+1)*size, (i+2)*size)\n",
        "        sl_test = slice((i+2)*size, (i+3)*size)\n",
        "        if (i+3)*size > len(xx_train):\n",
        "            break\n",
        "        model = CatBoostRegressor(verbose=False)\n",
        "        train_pool = Pool(xx_train[sl_train], y[sl_train])\n",
        "        eval_pool = Pool(xx_train[sl_eval], y[sl_eval])\n",
        "        test_pool = Pool(xx_train[sl_test], y[sl_test])\n",
        "        model.fit(train_pool, eval_set=eval_pool)\n",
        "        test_preds = model.predict(test_pool)\n",
        "        scores.append(r2_score(y[sl_test], test_preds))\n",
        "        feature_importance.append(model.feature_importances_)\n",
        "\n",
        "    return scores, feature_importance"
      ],
      "metadata": {
        "id": "G_zjWogYnqhh"
      },
      "execution_count": 57,
      "outputs": []
    },
    {
      "cell_type": "code",
      "source": [
        "%%time\n",
        "size = 20000\n",
        "cb_scores, feature_importance = fit_eval(size)"
      ],
      "metadata": {
        "id": "vVbGwfPgpRqB",
        "colab": {
          "base_uri": "https://localhost:8080/",
          "height": 85,
          "referenced_widgets": [
            "28ae742ee6904de7a5f0cc17a5c903fb",
            "357442b308084ae89f19796b7c59ca44",
            "972079cb8a63421e8d83d2af859d804f",
            "d70483b8a21e489c93e9c20959b544ba",
            "608a713288b84c6d8d02ba3223c464b8",
            "2def1ee1e7bc41c49558d6368376ed22",
            "1b280abbadd248a5bfd7ee0afc455e6c",
            "9b9f22f3586a47abb995333ae1627953",
            "bed898c1af07476faab94067b8be1211",
            "a434fa9d07644ae18c6baea84c949752",
            "640071ffe1264f0b9fdd5acac3c6443d"
          ]
        },
        "outputId": "4294b890-5e02-4fa2-a9c8-cfc119f97825"
      },
      "execution_count": 58,
      "outputs": [
        {
          "output_type": "display_data",
          "data": {
            "text/plain": [
              "  0%|          | 0/17 [00:00<?, ?it/s]"
            ],
            "application/vnd.jupyter.widget-view+json": {
              "version_major": 2,
              "version_minor": 0,
              "model_id": "28ae742ee6904de7a5f0cc17a5c903fb"
            }
          },
          "metadata": {}
        },
        {
          "output_type": "stream",
          "name": "stdout",
          "text": [
            "CPU times: user 2min 49s, sys: 14.5 s, total: 3min 3s\n",
            "Wall time: 2min 20s\n"
          ]
        }
      ]
    },
    {
      "cell_type": "code",
      "source": [
        "def fit_eval_ema(size):\n",
        "    xx_train = X[:, 0, :]\n",
        "    scores = []\n",
        "    a = 2 / 6\n",
        "    w = np.array([a * (1 - a) ** k for k in range(7)][::-1])\n",
        "    for i in tqdm(range(int(len(xx_train) // size - 2))):\n",
        "        sl_test = slice((i+2)*size, (i+3)*size)\n",
        "        if (i+3)*size > len(xx_train):\n",
        "            break\n",
        "        test_pool = (xx_train[sl_test], y[sl_test])\n",
        "        test_preds = test_pool[0] @ w\n",
        "        scores.append(r2_score(test_pool[1], test_preds))\n",
        "\n",
        "    return scores"
      ],
      "metadata": {
        "id": "bZEv-rX0NaSS"
      },
      "execution_count": 86,
      "outputs": []
    },
    {
      "cell_type": "code",
      "source": [
        "ema_scores = fit_eval_ema(20000)"
      ],
      "metadata": {
        "colab": {
          "base_uri": "https://localhost:8080/",
          "height": 49,
          "referenced_widgets": [
            "b53342624e9c4bb6809e454bd876bcfd",
            "89e1ae5387e34fb08f6966dff3dd766f",
            "1d3a691eb5ba48b9886ee544ea4daaad",
            "068bf7066b6d496992d4f97a73385f69",
            "579ac1af0cfc41899fd4096d2b630757",
            "d67b20775bd44b1eaffb2d99b6978327",
            "6d3982932e5a4cb3a3a71f895eafebc8",
            "b43a64e5ddb84a6483028368ab567e87",
            "827c9fc129fd4117b803b122b99cedf7",
            "ab9b2a10591d473a8f996e189b2c03c0",
            "bb2d4086066c4f9ca06f0bacd68183bd"
          ]
        },
        "id": "LGlfrS4AOTXW",
        "outputId": "85739df0-b5b8-4e89-f4ef-eafb55399b6b"
      },
      "execution_count": 87,
      "outputs": [
        {
          "output_type": "display_data",
          "data": {
            "text/plain": [
              "  0%|          | 0/17 [00:00<?, ?it/s]"
            ],
            "application/vnd.jupyter.widget-view+json": {
              "version_major": 2,
              "version_minor": 0,
              "model_id": "b53342624e9c4bb6809e454bd876bcfd"
            }
          },
          "metadata": {}
        }
      ]
    },
    {
      "cell_type": "code",
      "source": [
        "plt.plot(cb_scores, label=\"Catboost R2\")\n",
        "plt.plot(ema_scores, label=\"EMA R2\")\n",
        "plt.plot(ridge_scores, label=\"Kernel Regression R2\")\n",
        "plt.ylim(0, 1)\n",
        "plt.grid()\n",
        "plt.legend()\n",
        "plt.show()"
      ],
      "metadata": {
        "colab": {
          "base_uri": "https://localhost:8080/",
          "height": 435
        },
        "id": "jEytSbVhM4F-",
        "outputId": "5b58509e-4696-4599-d814-fec15830c494"
      },
      "execution_count": 95,
      "outputs": [
        {
          "output_type": "display_data",
          "data": {
            "text/plain": [
              "<Figure size 640x480 with 1 Axes>"
            ],
            "image/png": "[encoded data removed]"
          },
          "metadata": {}
        }
      ]
    }
  ]
}