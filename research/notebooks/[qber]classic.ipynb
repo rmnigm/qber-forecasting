{
  "nbformat": 4,
  "nbformat_minor": 0,
  "metadata": {
    "colab": {
      "provenance": []
    },
    "kernelspec": {
      "name": "python3",
      "display_name": "Python 3"
    },
    "language_info": {
      "name": "python"
    }
  },
  "cells": [
    {
      "cell_type": "markdown",
      "source": [
        "## Imports"
      ],
      "metadata": {
        "id": "VirVmSsFJ2-w"
      }
    },
    {
      "cell_type": "code",
      "execution_count": 1,
      "metadata": {
        "id": "g1hZkLnfJtYH",
        "colab": {
          "base_uri": "https://localhost:8080/"
        },
        "outputId": "747ba0e3-399f-4575-c4ff-2a6fd36dfdae"
      },
      "outputs": [
        {
          "output_type": "stream",
          "name": "stdout",
          "text": [
            "Cloning into 'qber-forecasting'...\n",
            "remote: Enumerating objects: 546, done.\u001b[K\n",
            "remote: Counting objects: 100% (85/85), done.\u001b[K\n",
            "remote: Compressing objects: 100% (72/72), done.\u001b[K\n",
            "remote: Total 546 (delta 32), reused 45 (delta 11), pack-reused 461\u001b[K\n",
            "Receiving objects: 100% (546/546), 37.32 MiB | 13.11 MiB/s, done.\n",
            "Resolving deltas: 100% (266/266), done.\n",
            "Updating files: 100% (40/40), done.\n"
          ]
        }
      ],
      "source": [
        "!git clone https://github.com/rmnigm/qber-forecasting.git"
      ]
    },
    {
      "cell_type": "code",
      "source": [
        "!pip install catboost"
      ],
      "metadata": {
        "id": "geZID82oqO0t",
        "colab": {
          "base_uri": "https://localhost:8080/"
        },
        "outputId": "23bb0231-8a02-4d51-be39-31c0a36c29df"
      },
      "execution_count": 2,
      "outputs": [
        {
          "output_type": "stream",
          "name": "stdout",
          "text": [
            "Collecting catboost\n",
            "  Downloading catboost-1.2.5-cp310-cp310-manylinux2014_x86_64.whl (98.2 MB)\n",
            "\u001b[2K     \u001b[90m━━━━━━━━━━━━━━━━━━━━━━━━━━━━━━━━━━━━━━━━\u001b[0m \u001b[32m98.2/98.2 MB\u001b[0m \u001b[31m4.4 MB/s\u001b[0m eta \u001b[36m0:00:00\u001b[0m\n",
            "\u001b[?25hRequirement already satisfied: graphviz in /usr/local/lib/python3.10/dist-packages (from catboost) (0.20.3)\n",
            "Requirement already satisfied: matplotlib in /usr/local/lib/python3.10/dist-packages (from catboost) (3.7.1)\n",
            "Requirement already satisfied: numpy>=1.16.0 in /usr/local/lib/python3.10/dist-packages (from catboost) (1.25.2)\n",
            "Requirement already satisfied: pandas>=0.24 in /usr/local/lib/python3.10/dist-packages (from catboost) (2.0.3)\n",
            "Requirement already satisfied: scipy in /usr/local/lib/python3.10/dist-packages (from catboost) (1.11.4)\n",
            "Requirement already satisfied: plotly in /usr/local/lib/python3.10/dist-packages (from catboost) (5.15.0)\n",
            "Requirement already satisfied: six in /usr/local/lib/python3.10/dist-packages (from catboost) (1.16.0)\n",
            "Requirement already satisfied: python-dateutil>=2.8.2 in /usr/local/lib/python3.10/dist-packages (from pandas>=0.24->catboost) (2.8.2)\n",
            "Requirement already satisfied: pytz>=2020.1 in /usr/local/lib/python3.10/dist-packages (from pandas>=0.24->catboost) (2023.4)\n",
            "Requirement already satisfied: tzdata>=2022.1 in /usr/local/lib/python3.10/dist-packages (from pandas>=0.24->catboost) (2024.1)\n",
            "Requirement already satisfied: contourpy>=1.0.1 in /usr/local/lib/python3.10/dist-packages (from matplotlib->catboost) (1.2.1)\n",
            "Requirement already satisfied: cycler>=0.10 in /usr/local/lib/python3.10/dist-packages (from matplotlib->catboost) (0.12.1)\n",
            "Requirement already satisfied: fonttools>=4.22.0 in /usr/local/lib/python3.10/dist-packages (from matplotlib->catboost) (4.51.0)\n",
            "Requirement already satisfied: kiwisolver>=1.0.1 in /usr/local/lib/python3.10/dist-packages (from matplotlib->catboost) (1.4.5)\n",
            "Requirement already satisfied: packaging>=20.0 in /usr/local/lib/python3.10/dist-packages (from matplotlib->catboost) (24.0)\n",
            "Requirement already satisfied: pillow>=6.2.0 in /usr/local/lib/python3.10/dist-packages (from matplotlib->catboost) (9.4.0)\n",
            "Requirement already satisfied: pyparsing>=2.3.1 in /usr/local/lib/python3.10/dist-packages (from matplotlib->catboost) (3.1.2)\n",
            "Requirement already satisfied: tenacity>=6.2.0 in /usr/local/lib/python3.10/dist-packages (from plotly->catboost) (8.3.0)\n",
            "Installing collected packages: catboost\n",
            "Successfully installed catboost-1.2.5\n"
          ]
        }
      ]
    },
    {
      "cell_type": "code",
      "source": [
        "import collections\n",
        "import math\n",
        "import os\n",
        "import pathlib\n",
        "import random\n",
        "\n",
        "\n",
        "import matplotlib.pyplot as plt\n",
        "import numpy as np\n",
        "import polars as pl\n",
        "import seaborn as sns\n",
        "import scipy.stats as sps\n",
        "\n",
        "import statsmodels as sm\n",
        "\n",
        "from catboost import CatBoostRegressor\n",
        "from lightgbm import LGBMRegressor\n",
        "from sklearn.base import BaseEstimator, RegressorMixin\n",
        "from sklearn.linear_model import LinearRegression, Ridge, Lasso\n",
        "from sklearn.metrics import r2_score, mean_squared_error, mean_absolute_percentage_error, mean_absolute_error\n",
        "from sklearn.model_selection import TimeSeriesSplit, cross_validate\n",
        "from tqdm.notebook import tqdm\n",
        "from xgboost import XGBRegressor"
      ],
      "metadata": {
        "id": "SfE018XWJ2SS"
      },
      "execution_count": 3,
      "outputs": []
    },
    {
      "cell_type": "code",
      "source": [
        "seed = 123456\n",
        "random.seed(seed)\n",
        "np.random.seed(seed)"
      ],
      "metadata": {
        "id": "OOcZQLDpNYEV"
      },
      "execution_count": 4,
      "outputs": []
    },
    {
      "cell_type": "markdown",
      "source": [
        "## Datasets"
      ],
      "metadata": {
        "id": "FnTN5MJTqQgu"
      }
    },
    {
      "cell_type": "code",
      "source": [
        "def calculate_offset_limit(offset, limit, length) -> tuple[int, int]:\n",
        "    if offset is None:\n",
        "      offset = 0\n",
        "    else:\n",
        "      offset = offset if offset >= 1 else int(offset * length)\n",
        "    if limit is None:\n",
        "      limit = length\n",
        "    else:\n",
        "      limit = limit if limit >= 1 else int(limit * length)\n",
        "    return offset, limit"
      ],
      "metadata": {
        "id": "SDmlqzqKYEDU"
      },
      "execution_count": 5,
      "outputs": []
    },
    {
      "cell_type": "code",
      "source": [
        "from google.colab import drive\n",
        "drive.mount('/content/drive')"
      ],
      "metadata": {
        "colab": {
          "base_uri": "https://localhost:8080/"
        },
        "id": "0NyxivYezfXK",
        "outputId": "1ee39d12-034d-4b70-891c-5c8fb4184d82"
      },
      "execution_count": 6,
      "outputs": [
        {
          "output_type": "stream",
          "name": "stdout",
          "text": [
            "Mounted at /content/drive\n"
          ]
        }
      ]
    },
    {
      "cell_type": "code",
      "source": [
        "data = pl.read_csv('/content/qber-forecasting/datasets/data.csv')\n",
        "ts = data['e_mu_current']"
      ],
      "metadata": {
        "id": "TUd9tfxXziLw"
      },
      "execution_count": 7,
      "outputs": []
    },
    {
      "cell_type": "code",
      "source": [
        "new_data = pl.read_csv('/content/drive/MyDrive/Datasets/qber/frames_errors_12-03.csv', has_header=False)\n",
        "new_ts = new_data['column_3']"
      ],
      "metadata": {
        "id": "vN0QjrkPVcqE"
      },
      "execution_count": 8,
      "outputs": []
    },
    {
      "cell_type": "code",
      "source": [
        "def build_from_series(\n",
        "    data: pl.Series,\n",
        "    window_size: int,\n",
        "    dtype: np.dtype = np.float32,\n",
        "    offset: int | float = None,\n",
        "    limit: int | float = None) -> tuple[np.ndarray, np.ndarray]:\n",
        "    length = len(data)\n",
        "    offset, limit = calculate_offset_limit(offset, limit, length)\n",
        "    data = data.slice(offset, limit)\n",
        "    data_array = data.to_numpy()\n",
        "    dataset = np.lib.stride_tricks.sliding_window_view(\n",
        "        data_array,\n",
        "        window_size + 1,\n",
        "        axis=0\n",
        "        )\n",
        "    return dataset"
      ],
      "metadata": {
        "id": "OH5p008FznlF"
      },
      "execution_count": 9,
      "outputs": []
    },
    {
      "cell_type": "code",
      "source": [
        "def build_datasets(ts, ws=5):\n",
        "    train_data = build_from_series(data=ts, window_size=ws, limit=0.7)\n",
        "    test_data = build_from_series(data=ts, window_size=ws, offset=0.7, limit=0.85)\n",
        "    val_data = build_from_series(data=ts, window_size=ws, offset=0.85)\n",
        "\n",
        "    train_x, train_y = train_data[:, :-1], train_data[:, -1]\n",
        "    test_x, test_y = test_data[:, :-1], test_data[:, -1]\n",
        "    val_x, val_y = val_data[:, :-1], val_data[:, -1]\n",
        "\n",
        "    full_data = build_from_series(data=ts, window_size=ws)\n",
        "    X, y = full_data[:, :-1], full_data[:, -1]\n",
        "    return [\n",
        "        (train_x, train_y),\n",
        "        (test_x, test_y),\n",
        "        (val_x, val_y),\n",
        "        (X, y),\n",
        "    ]"
      ],
      "metadata": {
        "id": "_wpOvoJezrAL"
      },
      "execution_count": 10,
      "outputs": []
    },
    {
      "cell_type": "code",
      "source": [
        "class ExponentionalAverager:\n",
        "    def __init__(self, start_value, window_size):\n",
        "        assert window_size >= 0\n",
        "        self.val = start_value\n",
        "        self.alpha = 2. / (window_size + 1)\n",
        "        self.window_size = window_size\n",
        "\n",
        "    def add_value(self, val):\n",
        "        self.val = self.alpha * val + (1. - self.alpha) * self.val\n",
        "\n",
        "    def get_value(self):\n",
        "        return self.val"
      ],
      "metadata": {
        "id": "KUUdsuW60DMf"
      },
      "execution_count": 12,
      "outputs": []
    },
    {
      "cell_type": "code",
      "source": [
        "model = ExponentionalAverager(0.02, 5)\n",
        "ws = 7\n",
        "datasets = build_datasets(new_ts, ws)\n",
        "train_preds = []\n",
        "test_preds = []\n",
        "\n",
        "_, (_, y1), (_, y2), _ = datasets\n",
        "test_y = np.concatenate((y1, y2))\n",
        "\n",
        "for val in test_y:\n",
        "    test_preds.append(model.get_value())\n",
        "    model.add_value(val)\n",
        "\n",
        "print('ExponentialAverager')\n",
        "print(f'R2 = {r2_score(test_y, test_preds):.5f}')\n",
        "print(f'RMSE = {mean_squared_error(test_y, test_preds, squared=False):.5f}')\n",
        "print(f'MAE = {mean_absolute_error(test_y, test_preds):.5f}')\n",
        "print(f'MAPE = {mean_absolute_percentage_error(test_y, test_preds):.5f}')"
      ],
      "metadata": {
        "colab": {
          "base_uri": "https://localhost:8080/"
        },
        "id": "Az9stLAV0QTZ",
        "outputId": "b0a6704f-845f-46ef-8b8d-f788e2b25b6c"
      },
      "execution_count": 17,
      "outputs": [
        {
          "output_type": "stream",
          "name": "stdout",
          "text": [
            "ExponentialAverager\n",
            "R2 = 0.42868\n",
            "RMSE = 0.00543\n",
            "MAE = 0.00336\n",
            "MAPE = 0.13154\n"
          ]
        }
      ]
    },
    {
      "cell_type": "code",
      "source": [
        "def evaluate_model(model, datasets, needs_eval=False):\n",
        "    train, test, val, full = datasets\n",
        "    if needs_eval:\n",
        "        model.fit(*train, eval_set=val)\n",
        "    else:\n",
        "        model.fit(*train)\n",
        "        test = (\n",
        "            np.concatenate((test[0], val[0])),\n",
        "            np.concatenate((test[1], val[1]))\n",
        "        )\n",
        "    train_preds = model.predict(train[0])\n",
        "    test_preds = model.predict(test[0])\n",
        "    print(f'R^2 = {r2_score(test[1], test_preds):.5f}')\n",
        "    print(f'RMSE = {mean_squared_error(test[1], test_preds, squared=False):.5f}')\n",
        "    print(f'MAE = {mean_absolute_error(test[1], test_preds):.5f}')\n",
        "    print(f'MAPE = {mean_absolute_percentage_error(test[1], test_preds):.5f}')\n",
        "    return [\n",
        "        r2_score(test[1], test_preds),\n",
        "        mean_squared_error(test[1], test_preds, squared=False),\n",
        "        mean_absolute_error(test[1], test_preds),\n",
        "        mean_absolute_percentage_error(test[1], test_preds)\n",
        "    ]"
      ],
      "metadata": {
        "id": "3tmlGzAXgIHa"
      },
      "execution_count": 40,
      "outputs": []
    },
    {
      "cell_type": "markdown",
      "source": [
        "## Models"
      ],
      "metadata": {
        "id": "UnHQHiyMzl0U"
      }
    },
    {
      "cell_type": "code",
      "source": [
        "class RidgeModel(RegressorMixin, BaseEstimator):\n",
        "    def __init__(self, ws):\n",
        "        super().__init__()\n",
        "        self.model = Ridge()\n",
        "        self.ws = ws\n",
        "\n",
        "    def get_features(self, X):\n",
        "        ema_coef_ = np.array([1/3 * 2/3 ** i for i in range(self.ws)[::-1]])\n",
        "        means = X.mean(axis=1)[:, None]\n",
        "        stds = X.std(axis=1)[:, None]\n",
        "        maxs = X.max(axis=1)[:, None]\n",
        "        mins = X.min(axis=1)[:, None]\n",
        "        mins = X.min(axis=1)[:, None]\n",
        "        emas = (X @ ema_coef_)[:, None]\n",
        "        diffs = (X[:, -1] / X[:, -2])[:, None]\n",
        "        return np.concatenate((X, means, stds, maxs, mins, diffs, emas), axis=1)\n",
        "\n",
        "    def fit(self, X, y):\n",
        "        features = self.get_features(X)\n",
        "        self.model.fit(features, y)\n",
        "\n",
        "    def predict(self, X):\n",
        "        features = self.get_features(X)\n",
        "        return self.model.predict(features)"
      ],
      "metadata": {
        "id": "M5r5QNTf551b"
      },
      "execution_count": 21,
      "outputs": []
    },
    {
      "cell_type": "code",
      "source": [
        "ws = 7\n",
        "datasets = build_datasets(new_ts, ws)\n",
        "model = RidgeModel(ws)\n",
        "evaluate_model(model, datasets)"
      ],
      "metadata": {
        "colab": {
          "base_uri": "https://localhost:8080/"
        },
        "id": "W5iGHCU362Vy",
        "outputId": "ae43df85-90cc-41a8-96db-7b0032c92986"
      },
      "execution_count": 22,
      "outputs": [
        {
          "output_type": "stream",
          "name": "stdout",
          "text": [
            "R^2 = 0.58688\n",
            "RMSE = 0.00462\n",
            "MAE = 0.00268\n",
            "MAPE = 0.10332\n"
          ]
        }
      ]
    },
    {
      "cell_type": "code",
      "source": [
        "plt.figure(figsize=(10, 5))\n",
        "feature_names = [f\"lag_{i}\" for i in range(ws, 0, -1)] + [\"mean\", \"std\", \"max\", \"min\", \"diff\", \"ema\"]\n",
        "plt.bar(feature_names, model.model.coef_)\n",
        "plt.show()"
      ],
      "metadata": {
        "colab": {
          "base_uri": "https://localhost:8080/",
          "height": 445
        },
        "id": "uoeqOURb9NLW",
        "outputId": "39e51ae7-d445-4110-aed0-bacd51ce74c7"
      },
      "execution_count": null,
      "outputs": [
        {
          "output_type": "display_data",
          "data": {
            "text/plain": [
              "<Figure size 1000x500 with 1 Axes>"
            ],
            "image/png": "[encoded data removed]"
          },
          "metadata": {}
        }
      ]
    },
    {
      "cell_type": "code",
      "source": [
        "from sklearn.neural_network import MLPRegressor\n",
        "datasets = build_datasets(new_ts, ws)\n",
        "evaluate_model(MLPRegressor(), datasets)"
      ],
      "metadata": {
        "colab": {
          "base_uri": "https://localhost:8080/"
        },
        "id": "hoEU0pYz8gMD",
        "outputId": "15675ad9-fdf7-4da3-e95d-91d505d9e48c"
      },
      "execution_count": 35,
      "outputs": [
        {
          "output_type": "stream",
          "name": "stdout",
          "text": [
            "R^2 = 0.58804\n",
            "RMSE = 0.00461\n",
            "MAE = 0.00267\n",
            "MAPE = 0.10085\n"
          ]
        }
      ]
    },
    {
      "cell_type": "code",
      "source": [
        "class CBMRegressor(RegressorMixin, BaseEstimator):\n",
        "    def __init__(self, ws, lr):\n",
        "        super().__init__()\n",
        "        self.model = CatBoostRegressor(verbose=False)\n",
        "        self.ws = ws\n",
        "        self.lr = lr\n",
        "        self.ema_coef_ = np.array([1/3 * 2/3 ** i for i in range(self.ws)[::-1]])\n",
        "\n",
        "    def get_features(self, X, emas):\n",
        "        means = X.mean(axis=1)[:, None]\n",
        "        stds = X.std(axis=1)[:, None]\n",
        "        maxs = X.max(axis=1)[:, None]\n",
        "        mins = X.min(axis=1)[:, None]\n",
        "        mins = X.min(axis=1)[:, None]\n",
        "        diffs = (X[:, -1] / X[:, -2])[:, None]\n",
        "        emas = emas[:, None]\n",
        "        return np.concatenate((X, means, stds, maxs, mins, diffs, emas), axis=1)\n",
        "\n",
        "    def fit(self, X, y, eval_set):\n",
        "        emas = (X @ self.ema_coef_)\n",
        "        X = self.get_features(X, emas)\n",
        "        diff = y # - emas\n",
        "        if eval_set:\n",
        "            eval_X, eval_y = eval_set\n",
        "            eval_emas = (eval_X @ self.ema_coef_)\n",
        "            eval_diff = eval_y # - eval_emas\n",
        "            eval_X = self.get_features(eval_X, eval_emas)\n",
        "            eval_set = (eval_X, eval_diff)\n",
        "            self.model.fit(X, diff, eval_set=eval_set, early_stopping_rounds=50)\n",
        "        else:\n",
        "            self.model.fit(X, diff)\n",
        "\n",
        "    def predict(self, X):\n",
        "        emas = X @ self.ema_coef_\n",
        "        X = self.get_features(X, emas)\n",
        "        # return emas + self.lr * self.model.predict(X)\n",
        "        return self.model.predict(X)"
      ],
      "metadata": {
        "id": "cyoqyBxA0JLM"
      },
      "execution_count": 24,
      "outputs": []
    },
    {
      "cell_type": "code",
      "source": [
        "datasets = build_datasets(new_ts, ws)\n",
        "model = CBMRegressor(ws, 1.)\n",
        "m = evaluate_model(model, datasets, needs_eval=True)"
      ],
      "metadata": {
        "colab": {
          "base_uri": "https://localhost:8080/"
        },
        "id": "NU5VSa-A0XHH",
        "outputId": "7bc4e4b5-3662-4936-ca3e-a0ecf6987374"
      },
      "execution_count": 41,
      "outputs": [
        {
          "output_type": "stream",
          "name": "stdout",
          "text": [
            "R^2 = 0.62576\n",
            "RMSE = 0.00435\n",
            "MAE = 0.00252\n",
            "MAPE = 0.09703\n"
          ]
        }
      ]
    },
    {
      "cell_type": "code",
      "source": [
        "m"
      ],
      "metadata": {
        "colab": {
          "base_uri": "https://localhost:8080/"
        },
        "id": "XbbuEcJM3nIS",
        "outputId": "5e8a769f-a32a-40ae-8f60-749bb7dd225f"
      },
      "execution_count": 42,
      "outputs": [
        {
          "output_type": "execute_result",
          "data": {
            "text/plain": [
              "[0.6257640674438116,\n",
              " 0.004350731051507757,\n",
              " 0.0025164864616719013,\n",
              " 0.09702802640788304]"
            ]
          },
          "metadata": {},
          "execution_count": 42
        }
      ]
    },
    {
      "cell_type": "code",
      "source": [
        "class TSRegressor(RegressorMixin, BaseEstimator):\n",
        "    def __init__(self, ws, lr):\n",
        "        super().__init__()\n",
        "        self.model = CatBoostRegressor(verbose=False)\n",
        "        self.ws = ws\n",
        "        self.lr = lr\n",
        "        self.ema_coef_ = np.array([1/3 * 2/3 ** i for i in range(self.ws)[::-1]])\n",
        "\n",
        "    def get_features(self, X, emas):\n",
        "        means = X.mean(axis=1)[:, None]\n",
        "        stds = X.std(axis=1)[:, None]\n",
        "        maxs = X.max(axis=1)[:, None]\n",
        "        mins = X.min(axis=1)[:, None]\n",
        "        mins = X.min(axis=1)[:, None]\n",
        "        diffs = (X[:, -1] / X[:, -2])[:, None]\n",
        "        emas = emas[:, None]\n",
        "        return np.concatenate((X, means, stds, maxs, mins, diffs, emas), axis=1)\n",
        "\n",
        "    def fit(self, X, y, eval_set):\n",
        "        emas = (X @ self.ema_coef_)\n",
        "        X = self.get_features(X, emas)\n",
        "        diff = y - emas\n",
        "        if eval_set:\n",
        "            eval_X, eval_y = eval_set\n",
        "            eval_emas = (eval_X @ self.ema_coef_)\n",
        "            eval_diff = eval_y - eval_emas\n",
        "            eval_X = self.get_features(eval_X, eval_emas)\n",
        "            eval_set = (eval_X, eval_diff)\n",
        "            self.model.fit(X, diff, eval_set=eval_set, early_stopping_rounds=50)\n",
        "        else:\n",
        "            self.model.fit(X, diff)\n",
        "\n",
        "    def predict(self, X):\n",
        "        emas = X @ self.ema_coef_\n",
        "        X = self.get_features(X, emas)\n",
        "        return emas + self.lr * self.model.predict(X)"
      ],
      "metadata": {
        "id": "IqQHwyoJIaFi"
      },
      "execution_count": 43,
      "outputs": []
    },
    {
      "cell_type": "code",
      "source": [
        "datasets = build_datasets(new_ts, ws)\n",
        "model = TSRegressor(ws, 0.8)\n",
        "m = evaluate_model(model, datasets, needs_eval=True)"
      ],
      "metadata": {
        "colab": {
          "base_uri": "https://localhost:8080/"
        },
        "id": "YhAbGHlPzwnd",
        "outputId": "e48b0a26-b125-4bf3-9162-444f571d3da6"
      },
      "execution_count": 44,
      "outputs": [
        {
          "output_type": "stream",
          "name": "stdout",
          "text": [
            "R^2 = 0.62838\n",
            "RMSE = 0.00434\n",
            "MAE = 0.00245\n",
            "MAPE = 0.09463\n"
          ]
        }
      ]
    },
    {
      "cell_type": "code",
      "source": [
        "m"
      ],
      "metadata": {
        "colab": {
          "base_uri": "https://localhost:8080/"
        },
        "id": "1VbIz-QG3o2J",
        "outputId": "db383d9b-4d79-44d1-b079-cd57f0fc9350"
      },
      "execution_count": 45,
      "outputs": [
        {
          "output_type": "execute_result",
          "data": {
            "text/plain": [
              "[0.6283763824838479,\n",
              " 0.004335519546429603,\n",
              " 0.002445904603667376,\n",
              " 0.09462574723966466]"
            ]
          },
          "metadata": {},
          "execution_count": 45
        }
      ]
    },
    {
      "cell_type": "code",
      "source": [
        "from statsmodels.tsa.exponential_smoothing.ets import ETSModel\n",
        "from statsmodels.tsa.arima.model import ARIMA"
      ],
      "metadata": {
        "id": "M7EHgYsW1FjD"
      },
      "execution_count": 28,
      "outputs": []
    },
    {
      "cell_type": "code",
      "source": [
        "!pip install pmdarima\n",
        "import pmdarima as pm"
      ],
      "metadata": {
        "id": "nBphg3fTh2rJ"
      },
      "execution_count": null,
      "outputs": []
    },
    {
      "cell_type": "code",
      "source": [
        "model = pm.arima.ARIMA(order=(2, 1, 2))\n",
        "fit = model.fit(test_y)\n",
        "preds = fit.fittedvalues()"
      ],
      "metadata": {
        "id": "RJBFYupNr5Cs"
      },
      "execution_count": 31,
      "outputs": []
    },
    {
      "cell_type": "code",
      "source": [
        "print('ARIMA')\n",
        "print(f'R2 = {r2_score(test_y, preds):.5f}')\n",
        "print(f'RMSE = {mean_squared_error(test_y, preds, squared=False):.5f}')\n",
        "print(f'MAE = {mean_absolute_error(test_y, preds):.5f}')\n",
        "print(f'MAPE = {mean_absolute_percentage_error(test_y, preds):.5f}')"
      ],
      "metadata": {
        "colab": {
          "base_uri": "https://localhost:8080/"
        },
        "id": "mS7k1Jlq39qv",
        "outputId": "a3328e55-13d3-43a1-83a1-020bb54e6194"
      },
      "execution_count": 32,
      "outputs": [
        {
          "output_type": "stream",
          "name": "stdout",
          "text": [
            "ARIMA\n",
            "R2 = 0.55983\n",
            "RMSE = 0.00477\n",
            "MAE = 0.00279\n",
            "MAPE = 0.10892\n"
          ]
        }
      ]
    },
    {
      "cell_type": "code",
      "source": [
        "import scipy.stats as ss"
      ],
      "metadata": {
        "id": "XtrwTWde2kug"
      },
      "execution_count": 33,
      "outputs": []
    },
    {
      "cell_type": "code",
      "source": [
        "resid = fit.resid()\n",
        "sns.histplot(resid.clip(-0.05, 0.05), bins=60)\n",
        "ss.ks_1samp(resid, ss.norm(loc=resid.mean(), scale=resid.std()).cdf)"
      ],
      "metadata": {
        "colab": {
          "base_uri": "https://localhost:8080/",
          "height": 448
        },
        "id": "CLWRqE4Iv8mN",
        "outputId": "9dbebe26-99d7-4ad1-9b98-42ecf751d1be"
      },
      "execution_count": 34,
      "outputs": [
        {
          "output_type": "execute_result",
          "data": {
            "text/plain": [
              "KstestResult(statistic=0.12967045887447382, pvalue=0.0, statistic_location=0.0021977118029998625, statistic_sign=1)"
            ]
          },
          "metadata": {},
          "execution_count": 34
        },
        {
          "output_type": "display_data",
          "data": {
            "text/plain": [
              "<Figure size 640x480 with 1 Axes>"
            ],
            "image/png": "[encoded data removed]"
          },
          "metadata": {}
        }
      ]
    },
    {
      "cell_type": "code",
      "source": [
        "from statsmodels.graphics.tsaplots import plot_acf, plot_pacf"
      ],
      "metadata": {
        "id": "4U030ed621oU"
      },
      "execution_count": null,
      "outputs": []
    },
    {
      "cell_type": "code",
      "source": [
        "fig = plt.figure(figsize=(12, 8))\n",
        "ax1 = fig.add_subplot(211)\n",
        "fig = plot_acf(resid.values.squeeze(), lags=20, ax=ax1)\n",
        "ax2 = fig.add_subplot(212)\n",
        "fig = plot_pacf(resid, lags=20, ax=ax2)"
      ],
      "metadata": {
        "colab": {
          "base_uri": "https://localhost:8080/",
          "height": 699
        },
        "id": "fPYqO-7FtYej",
        "outputId": "f50e8ae2-bcbb-4a73-84a1-aa4e14c1220f"
      },
      "execution_count": null,
      "outputs": [
        {
          "output_type": "display_data",
          "data": {
            "text/plain": [
              "<Figure size 1200x800 with 2 Axes>"
            ],
            "image/png": "[encoded data removed]"
          },
          "metadata": {}
        }
      ]
    },
    {
      "cell_type": "code",
      "source": [],
      "metadata": {
        "id": "sBPluUyq26e6"
      },
      "execution_count": null,
      "outputs": []
    }
  ]
}