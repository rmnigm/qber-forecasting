{
  "nbformat": 4,
  "nbformat_minor": 0,
  "metadata": {
    "colab": {
      "provenance": []
    },
    "kernelspec": {
      "name": "python3",
      "display_name": "Python 3"
    },
    "language_info": {
      "name": "python"
    },
    "widgets": {
      "application/vnd.jupyter.widget-state+json": {
        "87090ebebc604bbf8168bf3164230be9": {
          "model_module": "@jupyter-widgets/controls",
          "model_name": "HBoxModel",
          "model_module_version": "1.5.0",
          "state": {
            "_dom_classes": [],
            "_model_module": "@jupyter-widgets/controls",
            "_model_module_version": "1.5.0",
            "_model_name": "HBoxModel",
            "_view_count": null,
            "_view_module": "@jupyter-widgets/controls",
            "_view_module_version": "1.5.0",
            "_view_name": "HBoxView",
            "box_style": "",
            "children": [
              "IPY_MODEL_c24fa1efc8254a1db487e6844b3acc85",
              "IPY_MODEL_248375779c8f42e089b6d9381656c656",
              "IPY_MODEL_b49e1a34d67b4159bf2298b8fc3f3b22"
            ],
            "layout": "IPY_MODEL_b89661bf88754283a3c0164d4babd35a"
          }
        },
        "c24fa1efc8254a1db487e6844b3acc85": {
          "model_module": "@jupyter-widgets/controls",
          "model_name": "HTMLModel",
          "model_module_version": "1.5.0",
          "state": {
            "_dom_classes": [],
            "_model_module": "@jupyter-widgets/controls",
            "_model_module_version": "1.5.0",
            "_model_name": "HTMLModel",
            "_view_count": null,
            "_view_module": "@jupyter-widgets/controls",
            "_view_module_version": "1.5.0",
            "_view_name": "HTMLView",
            "description": "",
            "description_tooltip": null,
            "layout": "IPY_MODEL_6bea3a0e9c8b4e6585b4959a9889a370",
            "placeholder": "​",
            "style": "IPY_MODEL_f39a3516560048339dd1bebee2a1a458",
            "value": "100%"
          }
        },
        "248375779c8f42e089b6d9381656c656": {
          "model_module": "@jupyter-widgets/controls",
          "model_name": "FloatProgressModel",
          "model_module_version": "1.5.0",
          "state": {
            "_dom_classes": [],
            "_model_module": "@jupyter-widgets/controls",
            "_model_module_version": "1.5.0",
            "_model_name": "FloatProgressModel",
            "_view_count": null,
            "_view_module": "@jupyter-widgets/controls",
            "_view_module_version": "1.5.0",
            "_view_name": "ProgressView",
            "bar_style": "success",
            "description": "",
            "description_tooltip": null,
            "layout": "IPY_MODEL_ed4637bec5314ad2bf352391f025748d",
            "max": 393793,
            "min": 0,
            "orientation": "horizontal",
            "style": "IPY_MODEL_a6229a8f3e904232a9af70073a09b86d",
            "value": 393793
          }
        },
        "b49e1a34d67b4159bf2298b8fc3f3b22": {
          "model_module": "@jupyter-widgets/controls",
          "model_name": "HTMLModel",
          "model_module_version": "1.5.0",
          "state": {
            "_dom_classes": [],
            "_model_module": "@jupyter-widgets/controls",
            "_model_module_version": "1.5.0",
            "_model_name": "HTMLModel",
            "_view_count": null,
            "_view_module": "@jupyter-widgets/controls",
            "_view_module_version": "1.5.0",
            "_view_name": "HTMLView",
            "description": "",
            "description_tooltip": null,
            "layout": "IPY_MODEL_b6fee740a2504a1586f95f918eb4ff35",
            "placeholder": "​",
            "style": "IPY_MODEL_ea9b0e1653784858a07c1c984becbcfc",
            "value": " 393793/393793 [01:00&lt;00:00, 9236.01it/s]"
          }
        },
        "b89661bf88754283a3c0164d4babd35a": {
          "model_module": "@jupyter-widgets/base",
          "model_name": "LayoutModel",
          "model_module_version": "1.2.0",
          "state": {
            "_model_module": "@jupyter-widgets/base",
            "_model_module_version": "1.2.0",
            "_model_name": "LayoutModel",
            "_view_count": null,
            "_view_module": "@jupyter-widgets/base",
            "_view_module_version": "1.2.0",
            "_view_name": "LayoutView",
            "align_content": null,
            "align_items": null,
            "align_self": null,
            "border": null,
            "bottom": null,
            "display": null,
            "flex": null,
            "flex_flow": null,
            "grid_area": null,
            "grid_auto_columns": null,
            "grid_auto_flow": null,
            "grid_auto_rows": null,
            "grid_column": null,
            "grid_gap": null,
            "grid_row": null,
            "grid_template_areas": null,
            "grid_template_columns": null,
            "grid_template_rows": null,
            "height": null,
            "justify_content": null,
            "justify_items": null,
            "left": null,
            "margin": null,
            "max_height": null,
            "max_width": null,
            "min_height": null,
            "min_width": null,
            "object_fit": null,
            "object_position": null,
            "order": null,
            "overflow": null,
            "overflow_x": null,
            "overflow_y": null,
            "padding": null,
            "right": null,
            "top": null,
            "visibility": null,
            "width": null
          }
        },
        "6bea3a0e9c8b4e6585b4959a9889a370": {
          "model_module": "@jupyter-widgets/base",
          "model_name": "LayoutModel",
          "model_module_version": "1.2.0",
          "state": {
            "_model_module": "@jupyter-widgets/base",
            "_model_module_version": "1.2.0",
            "_model_name": "LayoutModel",
            "_view_count": null,
            "_view_module": "@jupyter-widgets/base",
            "_view_module_version": "1.2.0",
            "_view_name": "LayoutView",
            "align_content": null,
            "align_items": null,
            "align_self": null,
            "border": null,
            "bottom": null,
            "display": null,
            "flex": null,
            "flex_flow": null,
            "grid_area": null,
            "grid_auto_columns": null,
            "grid_auto_flow": null,
            "grid_auto_rows": null,
            "grid_column": null,
            "grid_gap": null,
            "grid_row": null,
            "grid_template_areas": null,
            "grid_template_columns": null,
            "grid_template_rows": null,
            "height": null,
            "justify_content": null,
            "justify_items": null,
            "left": null,
            "margin": null,
            "max_height": null,
            "max_width": null,
            "min_height": null,
            "min_width": null,
            "object_fit": null,
            "object_position": null,
            "order": null,
            "overflow": null,
            "overflow_x": null,
            "overflow_y": null,
            "padding": null,
            "right": null,
            "top": null,
            "visibility": null,
            "width": null
          }
        },
        "f39a3516560048339dd1bebee2a1a458": {
          "model_module": "@jupyter-widgets/controls",
          "model_name": "DescriptionStyleModel",
          "model_module_version": "1.5.0",
          "state": {
            "_model_module": "@jupyter-widgets/controls",
            "_model_module_version": "1.5.0",
            "_model_name": "DescriptionStyleModel",
            "_view_count": null,
            "_view_module": "@jupyter-widgets/base",
            "_view_module_version": "1.2.0",
            "_view_name": "StyleView",
            "description_width": ""
          }
        },
        "ed4637bec5314ad2bf352391f025748d": {
          "model_module": "@jupyter-widgets/base",
          "model_name": "LayoutModel",
          "model_module_version": "1.2.0",
          "state": {
            "_model_module": "@jupyter-widgets/base",
            "_model_module_version": "1.2.0",
            "_model_name": "LayoutModel",
            "_view_count": null,
            "_view_module": "@jupyter-widgets/base",
            "_view_module_version": "1.2.0",
            "_view_name": "LayoutView",
            "align_content": null,
            "align_items": null,
            "align_self": null,
            "border": null,
            "bottom": null,
            "display": null,
            "flex": null,
            "flex_flow": null,
            "grid_area": null,
            "grid_auto_columns": null,
            "grid_auto_flow": null,
            "grid_auto_rows": null,
            "grid_column": null,
            "grid_gap": null,
            "grid_row": null,
            "grid_template_areas": null,
            "grid_template_columns": null,
            "grid_template_rows": null,
            "height": null,
            "justify_content": null,
            "justify_items": null,
            "left": null,
            "margin": null,
            "max_height": null,
            "max_width": null,
            "min_height": null,
            "min_width": null,
            "object_fit": null,
            "object_position": null,
            "order": null,
            "overflow": null,
            "overflow_x": null,
            "overflow_y": null,
            "padding": null,
            "right": null,
            "top": null,
            "visibility": null,
            "width": null
          }
        },
        "a6229a8f3e904232a9af70073a09b86d": {
          "model_module": "@jupyter-widgets/controls",
          "model_name": "ProgressStyleModel",
          "model_module_version": "1.5.0",
          "state": {
            "_model_module": "@jupyter-widgets/controls",
            "_model_module_version": "1.5.0",
            "_model_name": "ProgressStyleModel",
            "_view_count": null,
            "_view_module": "@jupyter-widgets/base",
            "_view_module_version": "1.2.0",
            "_view_name": "StyleView",
            "bar_color": null,
            "description_width": ""
          }
        },
        "b6fee740a2504a1586f95f918eb4ff35": {
          "model_module": "@jupyter-widgets/base",
          "model_name": "LayoutModel",
          "model_module_version": "1.2.0",
          "state": {
            "_model_module": "@jupyter-widgets/base",
            "_model_module_version": "1.2.0",
            "_model_name": "LayoutModel",
            "_view_count": null,
            "_view_module": "@jupyter-widgets/base",
            "_view_module_version": "1.2.0",
            "_view_name": "LayoutView",
            "align_content": null,
            "align_items": null,
            "align_self": null,
            "border": null,
            "bottom": null,
            "display": null,
            "flex": null,
            "flex_flow": null,
            "grid_area": null,
            "grid_auto_columns": null,
            "grid_auto_flow": null,
            "grid_auto_rows": null,
            "grid_column": null,
            "grid_gap": null,
            "grid_row": null,
            "grid_template_areas": null,
            "grid_template_columns": null,
            "grid_template_rows": null,
            "height": null,
            "justify_content": null,
            "justify_items": null,
            "left": null,
            "margin": null,
            "max_height": null,
            "max_width": null,
            "min_height": null,
            "min_width": null,
            "object_fit": null,
            "object_position": null,
            "order": null,
            "overflow": null,
            "overflow_x": null,
            "overflow_y": null,
            "padding": null,
            "right": null,
            "top": null,
            "visibility": null,
            "width": null
          }
        },
        "ea9b0e1653784858a07c1c984becbcfc": {
          "model_module": "@jupyter-widgets/controls",
          "model_name": "DescriptionStyleModel",
          "model_module_version": "1.5.0",
          "state": {
            "_model_module": "@jupyter-widgets/controls",
            "_model_module_version": "1.5.0",
            "_model_name": "DescriptionStyleModel",
            "_view_count": null,
            "_view_module": "@jupyter-widgets/base",
            "_view_module_version": "1.2.0",
            "_view_name": "StyleView",
            "description_width": ""
          }
        },
        "b1d0038ee2fa48be8bb6b223a9c80008": {
          "model_module": "@jupyter-widgets/controls",
          "model_name": "HBoxModel",
          "model_module_version": "1.5.0",
          "state": {
            "_dom_classes": [],
            "_model_module": "@jupyter-widgets/controls",
            "_model_module_version": "1.5.0",
            "_model_name": "HBoxModel",
            "_view_count": null,
            "_view_module": "@jupyter-widgets/controls",
            "_view_module_version": "1.5.0",
            "_view_name": "HBoxView",
            "box_style": "",
            "children": [
              "IPY_MODEL_6dc6510c738c4a9e93257c22f3048a17",
              "IPY_MODEL_2407d5c13326449486e34e72c13a7c7c",
              "IPY_MODEL_489033da38594fad846ce89b1758f447"
            ],
            "layout": "IPY_MODEL_948a066d280041b89f6016c12466ec1b"
          }
        },
        "6dc6510c738c4a9e93257c22f3048a17": {
          "model_module": "@jupyter-widgets/controls",
          "model_name": "HTMLModel",
          "model_module_version": "1.5.0",
          "state": {
            "_dom_classes": [],
            "_model_module": "@jupyter-widgets/controls",
            "_model_module_version": "1.5.0",
            "_model_name": "HTMLModel",
            "_view_count": null,
            "_view_module": "@jupyter-widgets/controls",
            "_view_module_version": "1.5.0",
            "_view_name": "HTMLView",
            "description": "",
            "description_tooltip": null,
            "layout": "IPY_MODEL_7a2a2d2c94f74aed9a3f160dece6d2f8",
            "placeholder": "​",
            "style": "IPY_MODEL_60562fb7bb0f45e6957bd72823a0f852",
            "value": "100%"
          }
        },
        "2407d5c13326449486e34e72c13a7c7c": {
          "model_module": "@jupyter-widgets/controls",
          "model_name": "FloatProgressModel",
          "model_module_version": "1.5.0",
          "state": {
            "_dom_classes": [],
            "_model_module": "@jupyter-widgets/controls",
            "_model_module_version": "1.5.0",
            "_model_name": "FloatProgressModel",
            "_view_count": null,
            "_view_module": "@jupyter-widgets/controls",
            "_view_module_version": "1.5.0",
            "_view_name": "ProgressView",
            "bar_style": "success",
            "description": "",
            "description_tooltip": null,
            "layout": "IPY_MODEL_9d25ae88d47c42339535cc8302f8811b",
            "max": 295343,
            "min": 0,
            "orientation": "horizontal",
            "style": "IPY_MODEL_e6ecce27d315473aa02270c4cad574e8",
            "value": 295343
          }
        },
        "489033da38594fad846ce89b1758f447": {
          "model_module": "@jupyter-widgets/controls",
          "model_name": "HTMLModel",
          "model_module_version": "1.5.0",
          "state": {
            "_dom_classes": [],
            "_model_module": "@jupyter-widgets/controls",
            "_model_module_version": "1.5.0",
            "_model_name": "HTMLModel",
            "_view_count": null,
            "_view_module": "@jupyter-widgets/controls",
            "_view_module_version": "1.5.0",
            "_view_name": "HTMLView",
            "description": "",
            "description_tooltip": null,
            "layout": "IPY_MODEL_d27df07e67614a3296c451a395e13f2e",
            "placeholder": "​",
            "style": "IPY_MODEL_34fecee986174ce989e4aee4d04639cc",
            "value": " 295343/295343 [00:32&lt;00:00, 9251.55it/s]"
          }
        },
        "948a066d280041b89f6016c12466ec1b": {
          "model_module": "@jupyter-widgets/base",
          "model_name": "LayoutModel",
          "model_module_version": "1.2.0",
          "state": {
            "_model_module": "@jupyter-widgets/base",
            "_model_module_version": "1.2.0",
            "_model_name": "LayoutModel",
            "_view_count": null,
            "_view_module": "@jupyter-widgets/base",
            "_view_module_version": "1.2.0",
            "_view_name": "LayoutView",
            "align_content": null,
            "align_items": null,
            "align_self": null,
            "border": null,
            "bottom": null,
            "display": null,
            "flex": null,
            "flex_flow": null,
            "grid_area": null,
            "grid_auto_columns": null,
            "grid_auto_flow": null,
            "grid_auto_rows": null,
            "grid_column": null,
            "grid_gap": null,
            "grid_row": null,
            "grid_template_areas": null,
            "grid_template_columns": null,
            "grid_template_rows": null,
            "height": null,
            "justify_content": null,
            "justify_items": null,
            "left": null,
            "margin": null,
            "max_height": null,
            "max_width": null,
            "min_height": null,
            "min_width": null,
            "object_fit": null,
            "object_position": null,
            "order": null,
            "overflow": null,
            "overflow_x": null,
            "overflow_y": null,
            "padding": null,
            "right": null,
            "top": null,
            "visibility": null,
            "width": null
          }
        },
        "7a2a2d2c94f74aed9a3f160dece6d2f8": {
          "model_module": "@jupyter-widgets/base",
          "model_name": "LayoutModel",
          "model_module_version": "1.2.0",
          "state": {
            "_model_module": "@jupyter-widgets/base",
            "_model_module_version": "1.2.0",
            "_model_name": "LayoutModel",
            "_view_count": null,
            "_view_module": "@jupyter-widgets/base",
            "_view_module_version": "1.2.0",
            "_view_name": "LayoutView",
            "align_content": null,
            "align_items": null,
            "align_self": null,
            "border": null,
            "bottom": null,
            "display": null,
            "flex": null,
            "flex_flow": null,
            "grid_area": null,
            "grid_auto_columns": null,
            "grid_auto_flow": null,
            "grid_auto_rows": null,
            "grid_column": null,
            "grid_gap": null,
            "grid_row": null,
            "grid_template_areas": null,
            "grid_template_columns": null,
            "grid_template_rows": null,
            "height": null,
            "justify_content": null,
            "justify_items": null,
            "left": null,
            "margin": null,
            "max_height": null,
            "max_width": null,
            "min_height": null,
            "min_width": null,
            "object_fit": null,
            "object_position": null,
            "order": null,
            "overflow": null,
            "overflow_x": null,
            "overflow_y": null,
            "padding": null,
            "right": null,
            "top": null,
            "visibility": null,
            "width": null
          }
        },
        "60562fb7bb0f45e6957bd72823a0f852": {
          "model_module": "@jupyter-widgets/controls",
          "model_name": "DescriptionStyleModel",
          "model_module_version": "1.5.0",
          "state": {
            "_model_module": "@jupyter-widgets/controls",
            "_model_module_version": "1.5.0",
            "_model_name": "DescriptionStyleModel",
            "_view_count": null,
            "_view_module": "@jupyter-widgets/base",
            "_view_module_version": "1.2.0",
            "_view_name": "StyleView",
            "description_width": ""
          }
        },
        "9d25ae88d47c42339535cc8302f8811b": {
          "model_module": "@jupyter-widgets/base",
          "model_name": "LayoutModel",
          "model_module_version": "1.2.0",
          "state": {
            "_model_module": "@jupyter-widgets/base",
            "_model_module_version": "1.2.0",
            "_model_name": "LayoutModel",
            "_view_count": null,
            "_view_module": "@jupyter-widgets/base",
            "_view_module_version": "1.2.0",
            "_view_name": "LayoutView",
            "align_content": null,
            "align_items": null,
            "align_self": null,
            "border": null,
            "bottom": null,
            "display": null,
            "flex": null,
            "flex_flow": null,
            "grid_area": null,
            "grid_auto_columns": null,
            "grid_auto_flow": null,
            "grid_auto_rows": null,
            "grid_column": null,
            "grid_gap": null,
            "grid_row": null,
            "grid_template_areas": null,
            "grid_template_columns": null,
            "grid_template_rows": null,
            "height": null,
            "justify_content": null,
            "justify_items": null,
            "left": null,
            "margin": null,
            "max_height": null,
            "max_width": null,
            "min_height": null,
            "min_width": null,
            "object_fit": null,
            "object_position": null,
            "order": null,
            "overflow": null,
            "overflow_x": null,
            "overflow_y": null,
            "padding": null,
            "right": null,
            "top": null,
            "visibility": null,
            "width": null
          }
        },
        "e6ecce27d315473aa02270c4cad574e8": {
          "model_module": "@jupyter-widgets/controls",
          "model_name": "ProgressStyleModel",
          "model_module_version": "1.5.0",
          "state": {
            "_model_module": "@jupyter-widgets/controls",
            "_model_module_version": "1.5.0",
            "_model_name": "ProgressStyleModel",
            "_view_count": null,
            "_view_module": "@jupyter-widgets/base",
            "_view_module_version": "1.2.0",
            "_view_name": "StyleView",
            "bar_color": null,
            "description_width": ""
          }
        },
        "d27df07e67614a3296c451a395e13f2e": {
          "model_module": "@jupyter-widgets/base",
          "model_name": "LayoutModel",
          "model_module_version": "1.2.0",
          "state": {
            "_model_module": "@jupyter-widgets/base",
            "_model_module_version": "1.2.0",
            "_model_name": "LayoutModel",
            "_view_count": null,
            "_view_module": "@jupyter-widgets/base",
            "_view_module_version": "1.2.0",
            "_view_name": "LayoutView",
            "align_content": null,
            "align_items": null,
            "align_self": null,
            "border": null,
            "bottom": null,
            "display": null,
            "flex": null,
            "flex_flow": null,
            "grid_area": null,
            "grid_auto_columns": null,
            "grid_auto_flow": null,
            "grid_auto_rows": null,
            "grid_column": null,
            "grid_gap": null,
            "grid_row": null,
            "grid_template_areas": null,
            "grid_template_columns": null,
            "grid_template_rows": null,
            "height": null,
            "justify_content": null,
            "justify_items": null,
            "left": null,
            "margin": null,
            "max_height": null,
            "max_width": null,
            "min_height": null,
            "min_width": null,
            "object_fit": null,
            "object_position": null,
            "order": null,
            "overflow": null,
            "overflow_x": null,
            "overflow_y": null,
            "padding": null,
            "right": null,
            "top": null,
            "visibility": null,
            "width": null
          }
        },
        "34fecee986174ce989e4aee4d04639cc": {
          "model_module": "@jupyter-widgets/controls",
          "model_name": "DescriptionStyleModel",
          "model_module_version": "1.5.0",
          "state": {
            "_model_module": "@jupyter-widgets/controls",
            "_model_module_version": "1.5.0",
            "_model_name": "DescriptionStyleModel",
            "_view_count": null,
            "_view_module": "@jupyter-widgets/base",
            "_view_module_version": "1.2.0",
            "_view_name": "StyleView",
            "description_width": ""
          }
        },
        "a8a43c1a9f284e05828ca1a2c2e94caf": {
          "model_module": "@jupyter-widgets/controls",
          "model_name": "HBoxModel",
          "model_module_version": "1.5.0",
          "state": {
            "_dom_classes": [],
            "_model_module": "@jupyter-widgets/controls",
            "_model_module_version": "1.5.0",
            "_model_name": "HBoxModel",
            "_view_count": null,
            "_view_module": "@jupyter-widgets/controls",
            "_view_module_version": "1.5.0",
            "_view_name": "HBoxView",
            "box_style": "",
            "children": [
              "IPY_MODEL_663051a1c36c4a3a8b107c604e465c2f",
              "IPY_MODEL_e10548740e21452c92316f582329fefe",
              "IPY_MODEL_db1b7dc423d44c508c339bda430e1ef6"
            ],
            "layout": "IPY_MODEL_ed8a53d4ec3f4daa8dca5ce9cf838523"
          }
        },
        "663051a1c36c4a3a8b107c604e465c2f": {
          "model_module": "@jupyter-widgets/controls",
          "model_name": "HTMLModel",
          "model_module_version": "1.5.0",
          "state": {
            "_dom_classes": [],
            "_model_module": "@jupyter-widgets/controls",
            "_model_module_version": "1.5.0",
            "_model_name": "HTMLModel",
            "_view_count": null,
            "_view_module": "@jupyter-widgets/controls",
            "_view_module_version": "1.5.0",
            "_view_name": "HTMLView",
            "description": "",
            "description_tooltip": null,
            "layout": "IPY_MODEL_1cba9e47358445b998b9aef82fc91dc0",
            "placeholder": "​",
            "style": "IPY_MODEL_74eae502b90b44209efd9ac8320d3fa3",
            "value": "100%"
          }
        },
        "e10548740e21452c92316f582329fefe": {
          "model_module": "@jupyter-widgets/controls",
          "model_name": "FloatProgressModel",
          "model_module_version": "1.5.0",
          "state": {
            "_dom_classes": [],
            "_model_module": "@jupyter-widgets/controls",
            "_model_module_version": "1.5.0",
            "_model_name": "FloatProgressModel",
            "_view_count": null,
            "_view_module": "@jupyter-widgets/controls",
            "_view_module_version": "1.5.0",
            "_view_name": "ProgressView",
            "bar_style": "success",
            "description": "",
            "description_tooltip": null,
            "layout": "IPY_MODEL_0e3ca68e8fa04514825b4a19b5d3086c",
            "max": 98443,
            "min": 0,
            "orientation": "horizontal",
            "style": "IPY_MODEL_e28d82528ddb444ab8280111b6e2323a",
            "value": 98443
          }
        },
        "db1b7dc423d44c508c339bda430e1ef6": {
          "model_module": "@jupyter-widgets/controls",
          "model_name": "HTMLModel",
          "model_module_version": "1.5.0",
          "state": {
            "_dom_classes": [],
            "_model_module": "@jupyter-widgets/controls",
            "_model_module_version": "1.5.0",
            "_model_name": "HTMLModel",
            "_view_count": null,
            "_view_module": "@jupyter-widgets/controls",
            "_view_module_version": "1.5.0",
            "_view_name": "HTMLView",
            "description": "",
            "description_tooltip": null,
            "layout": "IPY_MODEL_afae2154a096454b9a05dcdaf790e6b1",
            "placeholder": "​",
            "style": "IPY_MODEL_344f04ecf71a48a69e8ef2d65684b9aa",
            "value": " 98443/98443 [00:11&lt;00:00, 8043.43it/s]"
          }
        },
        "ed8a53d4ec3f4daa8dca5ce9cf838523": {
          "model_module": "@jupyter-widgets/base",
          "model_name": "LayoutModel",
          "model_module_version": "1.2.0",
          "state": {
            "_model_module": "@jupyter-widgets/base",
            "_model_module_version": "1.2.0",
            "_model_name": "LayoutModel",
            "_view_count": null,
            "_view_module": "@jupyter-widgets/base",
            "_view_module_version": "1.2.0",
            "_view_name": "LayoutView",
            "align_content": null,
            "align_items": null,
            "align_self": null,
            "border": null,
            "bottom": null,
            "display": null,
            "flex": null,
            "flex_flow": null,
            "grid_area": null,
            "grid_auto_columns": null,
            "grid_auto_flow": null,
            "grid_auto_rows": null,
            "grid_column": null,
            "grid_gap": null,
            "grid_row": null,
            "grid_template_areas": null,
            "grid_template_columns": null,
            "grid_template_rows": null,
            "height": null,
            "justify_content": null,
            "justify_items": null,
            "left": null,
            "margin": null,
            "max_height": null,
            "max_width": null,
            "min_height": null,
            "min_width": null,
            "object_fit": null,
            "object_position": null,
            "order": null,
            "overflow": null,
            "overflow_x": null,
            "overflow_y": null,
            "padding": null,
            "right": null,
            "top": null,
            "visibility": null,
            "width": null
          }
        },
        "1cba9e47358445b998b9aef82fc91dc0": {
          "model_module": "@jupyter-widgets/base",
          "model_name": "LayoutModel",
          "model_module_version": "1.2.0",
          "state": {
            "_model_module": "@jupyter-widgets/base",
            "_model_module_version": "1.2.0",
            "_model_name": "LayoutModel",
            "_view_count": null,
            "_view_module": "@jupyter-widgets/base",
            "_view_module_version": "1.2.0",
            "_view_name": "LayoutView",
            "align_content": null,
            "align_items": null,
            "align_self": null,
            "border": null,
            "bottom": null,
            "display": null,
            "flex": null,
            "flex_flow": null,
            "grid_area": null,
            "grid_auto_columns": null,
            "grid_auto_flow": null,
            "grid_auto_rows": null,
            "grid_column": null,
            "grid_gap": null,
            "grid_row": null,
            "grid_template_areas": null,
            "grid_template_columns": null,
            "grid_template_rows": null,
            "height": null,
            "justify_content": null,
            "justify_items": null,
            "left": null,
            "margin": null,
            "max_height": null,
            "max_width": null,
            "min_height": null,
            "min_width": null,
            "object_fit": null,
            "object_position": null,
            "order": null,
            "overflow": null,
            "overflow_x": null,
            "overflow_y": null,
            "padding": null,
            "right": null,
            "top": null,
            "visibility": null,
            "width": null
          }
        },
        "74eae502b90b44209efd9ac8320d3fa3": {
          "model_module": "@jupyter-widgets/controls",
          "model_name": "DescriptionStyleModel",
          "model_module_version": "1.5.0",
          "state": {
            "_model_module": "@jupyter-widgets/controls",
            "_model_module_version": "1.5.0",
            "_model_name": "DescriptionStyleModel",
            "_view_count": null,
            "_view_module": "@jupyter-widgets/base",
            "_view_module_version": "1.2.0",
            "_view_name": "StyleView",
            "description_width": ""
          }
        },
        "0e3ca68e8fa04514825b4a19b5d3086c": {
          "model_module": "@jupyter-widgets/base",
          "model_name": "LayoutModel",
          "model_module_version": "1.2.0",
          "state": {
            "_model_module": "@jupyter-widgets/base",
            "_model_module_version": "1.2.0",
            "_model_name": "LayoutModel",
            "_view_count": null,
            "_view_module": "@jupyter-widgets/base",
            "_view_module_version": "1.2.0",
            "_view_name": "LayoutView",
            "align_content": null,
            "align_items": null,
            "align_self": null,
            "border": null,
            "bottom": null,
            "display": null,
            "flex": null,
            "flex_flow": null,
            "grid_area": null,
            "grid_auto_columns": null,
            "grid_auto_flow": null,
            "grid_auto_rows": null,
            "grid_column": null,
            "grid_gap": null,
            "grid_row": null,
            "grid_template_areas": null,
            "grid_template_columns": null,
            "grid_template_rows": null,
            "height": null,
            "justify_content": null,
            "justify_items": null,
            "left": null,
            "margin": null,
            "max_height": null,
            "max_width": null,
            "min_height": null,
            "min_width": null,
            "object_fit": null,
            "object_position": null,
            "order": null,
            "overflow": null,
            "overflow_x": null,
            "overflow_y": null,
            "padding": null,
            "right": null,
            "top": null,
            "visibility": null,
            "width": null
          }
        },
        "e28d82528ddb444ab8280111b6e2323a": {
          "model_module": "@jupyter-widgets/controls",
          "model_name": "ProgressStyleModel",
          "model_module_version": "1.5.0",
          "state": {
            "_model_module": "@jupyter-widgets/controls",
            "_model_module_version": "1.5.0",
            "_model_name": "ProgressStyleModel",
            "_view_count": null,
            "_view_module": "@jupyter-widgets/base",
            "_view_module_version": "1.2.0",
            "_view_name": "StyleView",
            "bar_color": null,
            "description_width": ""
          }
        },
        "afae2154a096454b9a05dcdaf790e6b1": {
          "model_module": "@jupyter-widgets/base",
          "model_name": "LayoutModel",
          "model_module_version": "1.2.0",
          "state": {
            "_model_module": "@jupyter-widgets/base",
            "_model_module_version": "1.2.0",
            "_model_name": "LayoutModel",
            "_view_count": null,
            "_view_module": "@jupyter-widgets/base",
            "_view_module_version": "1.2.0",
            "_view_name": "LayoutView",
            "align_content": null,
            "align_items": null,
            "align_self": null,
            "border": null,
            "bottom": null,
            "display": null,
            "flex": null,
            "flex_flow": null,
            "grid_area": null,
            "grid_auto_columns": null,
            "grid_auto_flow": null,
            "grid_auto_rows": null,
            "grid_column": null,
            "grid_gap": null,
            "grid_row": null,
            "grid_template_areas": null,
            "grid_template_columns": null,
            "grid_template_rows": null,
            "height": null,
            "justify_content": null,
            "justify_items": null,
            "left": null,
            "margin": null,
            "max_height": null,
            "max_width": null,
            "min_height": null,
            "min_width": null,
            "object_fit": null,
            "object_position": null,
            "order": null,
            "overflow": null,
            "overflow_x": null,
            "overflow_y": null,
            "padding": null,
            "right": null,
            "top": null,
            "visibility": null,
            "width": null
          }
        },
        "344f04ecf71a48a69e8ef2d65684b9aa": {
          "model_module": "@jupyter-widgets/controls",
          "model_name": "DescriptionStyleModel",
          "model_module_version": "1.5.0",
          "state": {
            "_model_module": "@jupyter-widgets/controls",
            "_model_module_version": "1.5.0",
            "_model_name": "DescriptionStyleModel",
            "_view_count": null,
            "_view_module": "@jupyter-widgets/base",
            "_view_module_version": "1.2.0",
            "_view_name": "StyleView",
            "description_width": ""
          }
        }
      }
    }
  },
  "cells": [
    {
      "cell_type": "markdown",
      "source": [
        "## Imports"
      ],
      "metadata": {
        "id": "VirVmSsFJ2-w"
      }
    },
    {
      "cell_type": "code",
      "execution_count": null,
      "metadata": {
        "id": "g1hZkLnfJtYH"
      },
      "outputs": [],
      "source": [
        "!git clone https://github.com/rmnigm/qber-forecasting.git"
      ]
    },
    {
      "cell_type": "code",
      "source": [
        "!pip install catboost"
      ],
      "metadata": {
        "id": "geZID82oqO0t"
      },
      "execution_count": null,
      "outputs": []
    },
    {
      "cell_type": "code",
      "source": [
        "import collections\n",
        "import math\n",
        "import os\n",
        "import pathlib\n",
        "import random\n",
        "\n",
        "\n",
        "import matplotlib.pyplot as plt\n",
        "import numpy as np\n",
        "import polars as pl\n",
        "import seaborn as sns\n",
        "import scipy.stats as sps\n",
        "\n",
        "import statsmodels as sm\n",
        "\n",
        "from catboost import CatBoostRegressor\n",
        "from lightgbm import LGBMRegressor\n",
        "from sklearn.base import BaseEstimator, RegressorMixin\n",
        "from sklearn.linear_model import LinearRegression, Ridge, Lasso\n",
        "from sklearn.metrics import r2_score, mean_squared_error, mean_absolute_percentage_error\n",
        "from sklearn.model_selection import TimeSeriesSplit, cross_validate\n",
        "from tqdm.notebook import tqdm\n",
        "from xgboost import XGBRegressor"
      ],
      "metadata": {
        "id": "SfE018XWJ2SS"
      },
      "execution_count": 5,
      "outputs": []
    },
    {
      "cell_type": "code",
      "source": [
        "seed = 123456\n",
        "random.seed(seed)\n",
        "np.random.seed(seed)"
      ],
      "metadata": {
        "id": "OOcZQLDpNYEV"
      },
      "execution_count": 6,
      "outputs": []
    },
    {
      "cell_type": "markdown",
      "source": [
        "## Data"
      ],
      "metadata": {
        "id": "GwUZqkh3LhpO"
      }
    },
    {
      "cell_type": "code",
      "source": [
        "from google.colab import drive\n",
        "drive.mount('/content/drive')"
      ],
      "metadata": {
        "id": "JIk96K7tNE_v"
      },
      "execution_count": null,
      "outputs": []
    },
    {
      "cell_type": "code",
      "source": [
        "columns = {\n",
        "    1: 'blockId',\n",
        "    2: 'frameIdx',\n",
        "    3: 'frameError',\n",
        "    4: 'byDecoyEst',\n",
        "    5: 'byDecoyZ',\n",
        "    6: 'byVacuumZ',\n",
        "    7: 'nmuSend',\n",
        "    8: 'nnuSend',\n",
        "    9: 'nlSend',\n",
        "    10: 'nmuReg',\n",
        "    11: 'nnuReg',\n",
        "    12: 'nlReg',\n",
        "    13: 'roundDistribution',\n",
        "    14: 'maintenanceFlag',\n",
        "    16: 'ema_est',\n",
        "    17: 'ema_f_ec',\n",
        "    19: 'vema_est',\n",
        "    20: 'vema_f_ec',\n",
        "    22: 'ml_est',\n",
        "    23: 'ml_f_ec',\n",
        "    25: 'phys_est',\n",
        "    26: 'phys_f_ec',\n",
        "}"
      ],
      "metadata": {
        "id": "8sZ9elg8LgKr"
      },
      "execution_count": 9,
      "outputs": []
    },
    {
      "cell_type": "code",
      "source": [
        "data = pl.read_csv('/content/drive/MyDrive/Datasets/qber/frames_errors_12-03.csv', has_header=False)"
      ],
      "metadata": {
        "id": "u5ddTuzDLkhS"
      },
      "execution_count": 10,
      "outputs": []
    },
    {
      "cell_type": "code",
      "source": [
        "data = data[:, [k-1 for k in columns.keys()]]\n",
        "data.columns = list(columns.values())\n",
        "data = data.select(\n",
        "    pl.col('vema_f_ec').cast(float).alias('vema_f_ec'),\n",
        "    pl.col('phys_f_ec').cast(float).alias('phys_f_ec'),\n",
        "    pl.col('ema_f_ec').cast(float).alias('ema_f_ec'),\n",
        "    pl.col('ml_f_ec').cast(float).alias('ml_f_ec'),\n",
        "    pl.col('vema_est').cast(float).alias('vema_est'),\n",
        "    pl.col('phys_est').cast(float).alias('phys_est'),\n",
        "    pl.col('ema_est').cast(float).alias('ema_est'),\n",
        "    pl.col('ml_est').cast(float).alias('ml_est'),\n",
        "    pl.col('frameError').alias('qber_mu'),\n",
        "    pl.col('byDecoyEst').alias('qber_prob_model'),\n",
        "    pl.col('byDecoyZ').alias('qber_nu_1'),\n",
        "    pl.col('byVacuumZ').alias('qber_nu_2'),\n",
        "    (pl.col('nmuReg') /  pl.col('nmuSend')).alias('q_mu'),\n",
        "    (pl.col('nnuReg') /  pl.col('nnuSend')).alias('q_nu_1'),\n",
        "    (pl.col('nlReg') /  pl.col('nlSend')).alias('q_nu_2'),\n",
        "    pl.col('maintenanceFlag').alias('maintenance'),\n",
        "    (pl.col('frameError') - pl.col('ml_est')).abs().alias('ml_err'),\n",
        "    (pl.col('frameError') - pl.col('ema_est')).abs().alias('ema_err'),\n",
        "    (pl.col('frameError') - pl.col('vema_est')).abs().alias('vema_err'),\n",
        "    (pl.col('frameError') - pl.col('phys_est')).abs().alias('phys_err'),\n",
        ")\n",
        "ts = data['qber_mu']\n",
        "ema_ts = data['ema_est']"
      ],
      "metadata": {
        "id": "HtAU-ukXxWwf"
      },
      "execution_count": 11,
      "outputs": []
    },
    {
      "cell_type": "code",
      "source": [
        "def calculate_offset_limit(offset, limit, length) -> tuple[int, int]:\n",
        "    if offset is None:\n",
        "      offset = 0\n",
        "    else:\n",
        "      offset = offset if offset >= 1 else int(offset * length)\n",
        "    if limit is None:\n",
        "      limit = length\n",
        "    else:\n",
        "      limit = limit if limit >= 1 else int(limit * length)\n",
        "    return offset, limit"
      ],
      "metadata": {
        "id": "EQM4IvOALeSn"
      },
      "execution_count": 183,
      "outputs": []
    },
    {
      "cell_type": "code",
      "source": [
        "def build_from_dataframe(\n",
        "    data: pl.DataFrame,\n",
        "    window_size: int,\n",
        "    dtype: np.dtype = np.float32,\n",
        "    columns: list[str] | None = None,\n",
        "    offset: int | float = None,\n",
        "    limit: int | float = None) -> tuple[np.ndarray, np.ndarray]:\n",
        "    length = len(data)\n",
        "    offset, limit = calculate_offset_limit(offset, limit, length)\n",
        "    columns = columns or data.columns\n",
        "    data = (\n",
        "        data\n",
        "        .select(columns)\n",
        "        .slice(offset, limit)\n",
        "    )\n",
        "    data_array = data.to_numpy()\n",
        "    dataset = np.lib.stride_tricks.sliding_window_view(\n",
        "        data_array,\n",
        "        window_size + 1,\n",
        "        axis=0\n",
        "        )\n",
        "    return dataset"
      ],
      "metadata": {
        "id": "reNFJVt3OkXV"
      },
      "execution_count": 12,
      "outputs": []
    },
    {
      "cell_type": "code",
      "source": [
        "feature_columns = [\n",
        "    'qber_mu',\n",
        "    # 'q_mu',\n",
        "    # 'q_nu_1',\n",
        "    # 'q_nu_2',\n",
        "    'maintenance',\n",
        "]\n",
        "\n",
        "window_size = 7"
      ],
      "metadata": {
        "id": "p9inFlhX0DvK"
      },
      "execution_count": 165,
      "outputs": []
    },
    {
      "cell_type": "code",
      "source": [
        "train_data = build_from_dataframe(data=data, window_size=window_size, limit=0.75, columns=feature_columns)\n",
        "test_data = build_from_dataframe(data=data, window_size=window_size, offset=0.75, columns=feature_columns)\n",
        "\n",
        "train_x, train_y = train_data[:, :, :-1], train_data[:, 0, -1]\n",
        "test_x, test_y = test_data[:, :, :-1], test_data[:, 0, -1]"
      ],
      "metadata": {
        "id": "7HB3C60TPBzW"
      },
      "execution_count": 166,
      "outputs": []
    },
    {
      "cell_type": "code",
      "source": [
        "full_data = build_from_dataframe(data=data, window_size=window_size, columns=feature_columns)\n",
        "X, y = full_data[:, :, :-1], full_data[:, 0, -1]"
      ],
      "metadata": {
        "id": "z09F-OESPK5R"
      },
      "execution_count": 167,
      "outputs": []
    },
    {
      "cell_type": "code",
      "source": [
        "import scipy.stats as ss"
      ],
      "metadata": {
        "id": "0L9V1YHa1-zJ"
      },
      "execution_count": 169,
      "outputs": []
    },
    {
      "cell_type": "code",
      "source": [
        "data[['qber_mu', 'qber_prob_model', 'qber_nu_1', 'qber_nu_2', 'q_mu', 'q_nu_1', 'q_nu_2']].corr()"
      ],
      "metadata": {
        "colab": {
          "base_uri": "https://localhost:8080/",
          "height": 318
        },
        "id": "lm_raG-c0szS",
        "outputId": "8b5e5f61-d0fb-4ea2-c009-072935b21869"
      },
      "execution_count": 184,
      "outputs": [
        {
          "output_type": "execute_result",
          "data": {
            "text/plain": [
              "shape: (7, 7)\n",
              "┌───────────┬─────────────────┬───────────┬───────────┬───────────┬───────────┬───────────┐\n",
              "│ qber_mu   ┆ qber_prob_model ┆ qber_nu_1 ┆ qber_nu_2 ┆ q_mu      ┆ q_nu_1    ┆ q_nu_2    │\n",
              "│ ---       ┆ ---             ┆ ---       ┆ ---       ┆ ---       ┆ ---       ┆ ---       │\n",
              "│ f64       ┆ f64             ┆ f64       ┆ f64       ┆ f64       ┆ f64       ┆ f64       │\n",
              "╞═══════════╪═════════════════╪═══════════╪═══════════╪═══════════╪═══════════╪═══════════╡\n",
              "│ 1.0       ┆ -0.071362       ┆ 0.025059  ┆ 0.003316  ┆ -0.217253 ┆ -0.232522 ┆ -0.217898 │\n",
              "│ -0.071362 ┆ 1.0             ┆ 0.198341  ┆ 0.184253  ┆ -0.115986 ┆ -0.130453 ┆ -0.129976 │\n",
              "│ 0.025059  ┆ 0.198341        ┆ 1.0       ┆ 0.496225  ┆ -0.341003 ┆ -0.367585 ┆ -0.34922  │\n",
              "│ 0.003316  ┆ 0.184253        ┆ 0.496225  ┆ 1.0       ┆ -0.372281 ┆ -0.45833  ┆ -0.458868 │\n",
              "│ -0.217253 ┆ -0.115986       ┆ -0.341003 ┆ -0.372281 ┆ 1.0       ┆ 0.91173   ┆ 0.749103  │\n",
              "│ -0.232522 ┆ -0.130453       ┆ -0.367585 ┆ -0.45833  ┆ 0.91173   ┆ 1.0       ┆ 0.918665  │\n",
              "│ -0.217898 ┆ -0.129976       ┆ -0.34922  ┆ -0.458868 ┆ 0.749103  ┆ 0.918665  ┆ 1.0       │\n",
              "└───────────┴─────────────────┴───────────┴───────────┴───────────┴───────────┴───────────┘"
            ],
            "text/html": [
              "<div><style>\n",
              ".dataframe > thead > tr,\n",
              ".dataframe > tbody > tr {\n",
              "  text-align: right;\n",
              "  white-space: pre-wrap;\n",
              "}\n",
              "</style>\n",
              "<small>shape: (7, 7)</small><table border=\"1\" class=\"dataframe\"><thead><tr><th>qber_mu</th><th>qber_prob_model</th><th>qber_nu_1</th><th>qber_nu_2</th><th>q_mu</th><th>q_nu_1</th><th>q_nu_2</th></tr><tr><td>f64</td><td>f64</td><td>f64</td><td>f64</td><td>f64</td><td>f64</td><td>f64</td></tr></thead><tbody><tr><td>1.0</td><td>-0.071362</td><td>0.025059</td><td>0.003316</td><td>-0.217253</td><td>-0.232522</td><td>-0.217898</td></tr><tr><td>-0.071362</td><td>1.0</td><td>0.198341</td><td>0.184253</td><td>-0.115986</td><td>-0.130453</td><td>-0.129976</td></tr><tr><td>0.025059</td><td>0.198341</td><td>1.0</td><td>0.496225</td><td>-0.341003</td><td>-0.367585</td><td>-0.34922</td></tr><tr><td>0.003316</td><td>0.184253</td><td>0.496225</td><td>1.0</td><td>-0.372281</td><td>-0.45833</td><td>-0.458868</td></tr><tr><td>-0.217253</td><td>-0.115986</td><td>-0.341003</td><td>-0.372281</td><td>1.0</td><td>0.91173</td><td>0.749103</td></tr><tr><td>-0.232522</td><td>-0.130453</td><td>-0.367585</td><td>-0.45833</td><td>0.91173</td><td>1.0</td><td>0.918665</td></tr><tr><td>-0.217898</td><td>-0.129976</td><td>-0.34922</td><td>-0.458868</td><td>0.749103</td><td>0.918665</td><td>1.0</td></tr></tbody></table></div>"
            ]
          },
          "metadata": {},
          "execution_count": 184
        }
      ]
    },
    {
      "cell_type": "code",
      "source": [
        "ss.mannwhitneyu(\n",
        "    data['qber_mu'].filter(data['maintenance'] == 0),\n",
        "    data['qber_mu'].filter(data['maintenance'] == 1)\n",
        "    )"
      ],
      "metadata": {
        "colab": {
          "base_uri": "https://localhost:8080/"
        },
        "id": "KKkbeJOd2BH6",
        "outputId": "560658e4-3c47-45fd-ab8a-b437901ad3b9"
      },
      "execution_count": 185,
      "outputs": [
        {
          "output_type": "execute_result",
          "data": {
            "text/plain": [
              "MannwhitneyuResult(statistic=25008263.0, pvalue=1.0563451537565548e-18)"
            ]
          },
          "metadata": {},
          "execution_count": 185
        }
      ]
    },
    {
      "cell_type": "markdown",
      "source": [
        "## Modelling"
      ],
      "metadata": {
        "id": "TkZ3rXeu0r0o"
      }
    },
    {
      "cell_type": "code",
      "source": [
        "class FeatureExtractor:\n",
        "    def __init__(self, binmask=None):\n",
        "        self.eps = 1e-10\n",
        "        self.binmask = binmask\n",
        "\n",
        "    def __call__(self, x):\n",
        "        if self.binmask is not None:\n",
        "            binary_x = x[self.binmask, :]\n",
        "            x = x[~self.binmask, :]\n",
        "        latest = x[:, -1]\n",
        "        means = x.mean(axis=1)\n",
        "        medians = np.median(x, axis=1)\n",
        "        stds = x.std(axis=1)\n",
        "        deltas = latest / (means + self.eps)\n",
        "        diffs = x.max(axis=1) - x.min(axis=1)\n",
        "        target_lags = x[0]\n",
        "        occurences = binary_x.sum(axis=1) > 0\n",
        "        statistics = np.concatenate(\n",
        "            [means, medians, stds, deltas, diffs, occurences],\n",
        "            dtype=np.float32\n",
        "            )\n",
        "        return target_lags, statistics\n",
        "\n",
        "    def build(self, X):\n",
        "        lag, stat = [], []\n",
        "        for elem in tqdm(X, total=len(X)):\n",
        "            lags, stats = self(elem)\n",
        "            lag.append(lags)\n",
        "            stat.append(stats)\n",
        "        return np.array(lag), np.array(stat)"
      ],
      "metadata": {
        "id": "F9NhTwlF1xiU"
      },
      "execution_count": 171,
      "outputs": []
    },
    {
      "cell_type": "code",
      "source": [
        "# binmask = np.array([False, False, False, False, True])\n",
        "binmask = np.array([False, True])\n",
        "extractor = FeatureExtractor(binmask=binmask)"
      ],
      "metadata": {
        "id": "9rPmZfkv4PxF"
      },
      "execution_count": 172,
      "outputs": []
    },
    {
      "cell_type": "code",
      "source": [
        "X_lag, X_stat = extractor.build(X)"
      ],
      "metadata": {
        "colab": {
          "base_uri": "https://localhost:8080/",
          "height": 49,
          "referenced_widgets": [
            "87090ebebc604bbf8168bf3164230be9",
            "c24fa1efc8254a1db487e6844b3acc85",
            "248375779c8f42e089b6d9381656c656",
            "b49e1a34d67b4159bf2298b8fc3f3b22",
            "b89661bf88754283a3c0164d4babd35a",
            "6bea3a0e9c8b4e6585b4959a9889a370",
            "f39a3516560048339dd1bebee2a1a458",
            "ed4637bec5314ad2bf352391f025748d",
            "a6229a8f3e904232a9af70073a09b86d",
            "b6fee740a2504a1586f95f918eb4ff35",
            "ea9b0e1653784858a07c1c984becbcfc"
          ]
        },
        "id": "gXV5xjFB7SHQ",
        "outputId": "fa91d2dd-d2ed-4d53-fec8-3b9a37fbafaf"
      },
      "execution_count": 173,
      "outputs": [
        {
          "output_type": "display_data",
          "data": {
            "text/plain": [
              "  0%|          | 0/393793 [00:00<?, ?it/s]"
            ],
            "application/vnd.jupyter.widget-view+json": {
              "version_major": 2,
              "version_minor": 0,
              "model_id": "87090ebebc604bbf8168bf3164230be9"
            }
          },
          "metadata": {}
        }
      ]
    },
    {
      "cell_type": "code",
      "source": [
        "train_x_lag, train_x_stat = extractor.build(train_x)\n",
        "test_x_lag, test_x_stat = extractor.build(test_x)"
      ],
      "metadata": {
        "colab": {
          "base_uri": "https://localhost:8080/",
          "height": 81,
          "referenced_widgets": [
            "b1d0038ee2fa48be8bb6b223a9c80008",
            "6dc6510c738c4a9e93257c22f3048a17",
            "2407d5c13326449486e34e72c13a7c7c",
            "489033da38594fad846ce89b1758f447",
            "948a066d280041b89f6016c12466ec1b",
            "7a2a2d2c94f74aed9a3f160dece6d2f8",
            "60562fb7bb0f45e6957bd72823a0f852",
            "9d25ae88d47c42339535cc8302f8811b",
            "e6ecce27d315473aa02270c4cad574e8",
            "d27df07e67614a3296c451a395e13f2e",
            "34fecee986174ce989e4aee4d04639cc",
            "a8a43c1a9f284e05828ca1a2c2e94caf",
            "663051a1c36c4a3a8b107c604e465c2f",
            "e10548740e21452c92316f582329fefe",
            "db1b7dc423d44c508c339bda430e1ef6",
            "ed8a53d4ec3f4daa8dca5ce9cf838523",
            "1cba9e47358445b998b9aef82fc91dc0",
            "74eae502b90b44209efd9ac8320d3fa3",
            "0e3ca68e8fa04514825b4a19b5d3086c",
            "e28d82528ddb444ab8280111b6e2323a",
            "afae2154a096454b9a05dcdaf790e6b1",
            "344f04ecf71a48a69e8ef2d65684b9aa"
          ]
        },
        "id": "5X08VBbP4RTp",
        "outputId": "472e00c1-bef4-4f44-c112-cf06a219a36f"
      },
      "execution_count": 174,
      "outputs": [
        {
          "output_type": "display_data",
          "data": {
            "text/plain": [
              "  0%|          | 0/295343 [00:00<?, ?it/s]"
            ],
            "application/vnd.jupyter.widget-view+json": {
              "version_major": 2,
              "version_minor": 0,
              "model_id": "b1d0038ee2fa48be8bb6b223a9c80008"
            }
          },
          "metadata": {}
        },
        {
          "output_type": "display_data",
          "data": {
            "text/plain": [
              "  0%|          | 0/98443 [00:00<?, ?it/s]"
            ],
            "application/vnd.jupyter.widget-view+json": {
              "version_major": 2,
              "version_minor": 0,
              "model_id": "a8a43c1a9f284e05828ca1a2c2e94caf"
            }
          },
          "metadata": {}
        }
      ]
    },
    {
      "cell_type": "code",
      "source": [
        "import joblib\n",
        "from catboost import CatBoostRegressor, Pool"
      ],
      "metadata": {
        "id": "AODn_tt5W_0P"
      },
      "execution_count": 175,
      "outputs": []
    },
    {
      "cell_type": "code",
      "source": [
        "class CompositeModel(RegressorMixin, BaseEstimator):\n",
        "    def __init__(self,\n",
        "                 alpha: float = 1/3,\n",
        "                 window_size: int = 10,\n",
        "                 ) -> None:\n",
        "        super().__init__()\n",
        "        self.linear = None\n",
        "        self.alpha = alpha\n",
        "        self.window_size = window_size\n",
        "        self.boost = CatBoostRegressor(eval_metric='R2')\n",
        "\n",
        "    def fit(self, X, y, eval_set=None):\n",
        "        X_lag, X_stat = X\n",
        "        X_total = np.concatenate([X_lag, X_stat], axis=1)\n",
        "        self.linear = np.array(\n",
        "            [self.alpha * (1 - self.alpha) ** i for i in range(self.window_size)]\n",
        "        )[::-1]\n",
        "        predictions = X_lag @ self.linear\n",
        "        diff = y - predictions\n",
        "        train_pool = Pool(X_total, diff)\n",
        "        if eval_set:\n",
        "            (X_lag, X_stat), y = eval_set\n",
        "            eval_X_total = np.concatenate([X_lag, X_stat], axis=1)\n",
        "            predictions = X_lag @ self.linear\n",
        "            eval_diff = y - predictions\n",
        "            eval_pool = Pool(eval_X_total, eval_diff)\n",
        "        self.boost.fit(train_pool, eval_set=eval_pool)\n",
        "\n",
        "    def predict(self, X):\n",
        "        X_lag, X_stat = X\n",
        "        X_total = np.concatenate([X_lag, X_stat], axis=1)\n",
        "        return X_lag @ self.linear + self.boost.predict(X_total)"
      ],
      "metadata": {
        "id": "ncXktUE4PiNg"
      },
      "execution_count": 176,
      "outputs": []
    },
    {
      "cell_type": "code",
      "source": [
        "model = CatBoostRegressor()\n",
        "train_pool = Pool(np.concatenate([train_x_lag, train_x_stat], axis=1), train_y)\n",
        "eval_pool = Pool(np.concatenate([test_x_lag, test_x_stat], axis=1), test_y)\n",
        "model.fit(train_pool, eval_set=eval_pool, early_stopping_rounds=50)"
      ],
      "metadata": {
        "id": "2dZcOQ87_eDZ"
      },
      "execution_count": null,
      "outputs": []
    },
    {
      "cell_type": "code",
      "source": [
        "means, medians, stds, deltas, diffs = [], [], [], [], []\n",
        "for col in np.array(feature_columns)[~binmask]:\n",
        "    means.append(f'mean_{col}')\n",
        "    medians.append(f'median_{col}')\n",
        "    stds.append(f'std_{col}')\n",
        "    deltas.append(f'delta_{col}')\n",
        "    diffs.append(f'diff_{col}')\n",
        "\n",
        "features = (\n",
        "    [f'qber_lag_{i}' for i in range(window_size, 0, -1)]\n",
        "    + means + medians + stds + deltas + diffs + ['occurences']\n",
        ")"
      ],
      "metadata": {
        "id": "-22QrbWKASug"
      },
      "execution_count": 178,
      "outputs": []
    },
    {
      "cell_type": "code",
      "source": [
        "train_preds = model.predict(train_pool)\n",
        "test_preds = model.predict(eval_pool)\n",
        "print('Boosting model')\n",
        "print(f'train R2 = {r2_score(train_y, train_preds):.7f}')\n",
        "print(f'test R2 = {r2_score(test_y, test_preds):.7f}')\n",
        "print(f'train MSE = {mean_squared_error(train_y, train_preds):.7f}')\n",
        "print(f'test MSE = {mean_squared_error(test_y, test_preds):.7f}')\n",
        "print(f'train RMSE = {mean_squared_error(train_y, train_preds, squared=False):.7f}')\n",
        "print(f'test RMSE = {mean_squared_error(test_y, test_preds, squared=False):.7f}')\n",
        "print('-' * 60)"
      ],
      "metadata": {
        "colab": {
          "base_uri": "https://localhost:8080/"
        },
        "id": "bEbN-PKfACLP",
        "outputId": "43ba381f-7e12-44ba-d52e-87892a10da15"
      },
      "execution_count": 179,
      "outputs": [
        {
          "output_type": "stream",
          "name": "stdout",
          "text": [
            "Boosting model\n",
            "train R2 = 0.7548597\n",
            "test R2 = 0.6595738\n",
            "train MSE = 0.0000106\n",
            "test MSE = 0.0000176\n",
            "train RMSE = 0.0032633\n",
            "test RMSE = 0.0041940\n",
            "------------------------------------------------------------\n"
          ]
        }
      ]
    },
    {
      "cell_type": "code",
      "source": [
        "model = CompositeModel(window_size=window_size)\n",
        "model.fit((train_x_lag, train_x_stat),\n",
        "          train_y,\n",
        "          eval_set=[(test_x_lag, test_x_stat), test_y]\n",
        "          )"
      ],
      "metadata": {
        "id": "Shno-gXkR0y6"
      },
      "execution_count": null,
      "outputs": []
    },
    {
      "cell_type": "code",
      "source": [
        "feature_importance = model.boost.feature_importances_\n",
        "sorted_idx = np.argsort(feature_importance)\n",
        "fig = plt.figure(figsize=(12, 6))\n",
        "plt.barh(range(len(sorted_idx)), feature_importance[sorted_idx], align='center')\n",
        "plt.yticks(range(len(sorted_idx)), np.array(features)[sorted_idx])\n",
        "plt.title('Feature Importance')"
      ],
      "metadata": {
        "colab": {
          "base_uri": "https://localhost:8080/",
          "height": 563
        },
        "id": "amSrmMPxDKFn",
        "outputId": "831fb574-c8d4-4f53-d435-16df76f2e8c6"
      },
      "execution_count": 181,
      "outputs": [
        {
          "output_type": "execute_result",
          "data": {
            "text/plain": [
              "Text(0.5, 1.0, 'Feature Importance')"
            ]
          },
          "metadata": {},
          "execution_count": 181
        },
        {
          "output_type": "display_data",
          "data": {
            "text/plain": [
              "<Figure size 1200x600 with 1 Axes>"
            ],
            "image/png": "[encoded data removed]"
          },
          "metadata": {}
        }
      ]
    },
    {
      "cell_type": "code",
      "source": [
        "train_preds = model.predict((train_x_lag, train_x_stat))\n",
        "test_preds = model.predict((test_x_lag, test_x_stat))\n",
        "print('Composite EMA + boosting model')\n",
        "print(f'train R2 = {r2_score(train_y, train_preds):.7f}')\n",
        "print(f'test R2 = {r2_score(test_y, test_preds):.7f}')\n",
        "print(f'train MSE = {mean_squared_error(train_y, train_preds):.7f}')\n",
        "print(f'test MSE = {mean_squared_error(test_y, test_preds):.7f}')\n",
        "print(f'train RMSE = {mean_squared_error(train_y, train_preds, squared=False):.7f}')\n",
        "print(f'test RMSE = {mean_squared_error(test_y, test_preds, squared=False):.7f}')\n",
        "print('-' * 60)"
      ],
      "metadata": {
        "colab": {
          "base_uri": "https://localhost:8080/"
        },
        "id": "Ye4Q_6Hd8byg",
        "outputId": "70e98de2-ee83-4110-e6ef-b28f6748d922"
      },
      "execution_count": 182,
      "outputs": [
        {
          "output_type": "stream",
          "name": "stdout",
          "text": [
            "Composite EMA + boosting model\n",
            "train R2 = 0.7714838\n",
            "test R2 = 0.6499724\n",
            "train MSE = 0.0000099\n",
            "test MSE = 0.0000181\n",
            "train RMSE = 0.0031507\n",
            "test RMSE = 0.0042528\n",
            "------------------------------------------------------------\n"
          ]
        }
      ]
    }
  ]
}