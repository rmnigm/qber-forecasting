{
  "nbformat": 4,
  "nbformat_minor": 0,
  "metadata": {
    "colab": {
      "provenance": []
    },
    "kernelspec": {
      "name": "python3",
      "display_name": "Python 3"
    },
    "language_info": {
      "name": "python"
    }
  },
  "cells": [
    {
      "cell_type": "markdown",
      "source": [
        "## Imports"
      ],
      "metadata": {
        "id": "VirVmSsFJ2-w"
      }
    },
    {
      "cell_type": "code",
      "execution_count": null,
      "metadata": {
        "id": "g1hZkLnfJtYH"
      },
      "outputs": [],
      "source": [
        "!git clone https://github.com/rmnigm/qber-forecasting.git"
      ]
    },
    {
      "cell_type": "code",
      "source": [
        "!pip install catboost"
      ],
      "metadata": {
        "id": "geZID82oqO0t"
      },
      "execution_count": null,
      "outputs": []
    },
    {
      "cell_type": "code",
      "source": [
        "import collections\n",
        "import math\n",
        "import os\n",
        "import pathlib\n",
        "import random\n",
        "\n",
        "\n",
        "import matplotlib.pyplot as plt\n",
        "import numpy as np\n",
        "import polars as pl\n",
        "import seaborn as sns\n",
        "import scipy.stats as sps\n",
        "\n",
        "from catboost import CatBoostRegressor\n",
        "from lightgbm import LGBMRegressor\n",
        "from sklearn.base import BaseEstimator, RegressorMixin\n",
        "from sklearn.linear_model import LinearRegression, Ridge\n",
        "from sklearn.metrics import r2_score, mean_squared_error, mean_absolute_percentage_error\n",
        "from sklearn.model_selection import TimeSeriesSplit, cross_validate\n",
        "from tqdm.notebook import tqdm\n",
        "from xgboost import XGBRegressor"
      ],
      "metadata": {
        "id": "SfE018XWJ2SS"
      },
      "execution_count": 131,
      "outputs": []
    },
    {
      "cell_type": "code",
      "source": [
        "seed = 123456\n",
        "random.seed(seed)\n",
        "np.random.seed(seed)"
      ],
      "metadata": {
        "id": "OOcZQLDpNYEV"
      },
      "execution_count": 126,
      "outputs": []
    },
    {
      "cell_type": "markdown",
      "source": [
        "## Datasets"
      ],
      "metadata": {
        "id": "FnTN5MJTqQgu"
      }
    },
    {
      "cell_type": "code",
      "source": [
        "def calculate_offset_limit(offset, limit, length) -> tuple[int, int]:\n",
        "    if offset is None:\n",
        "      offset = 0\n",
        "    else:\n",
        "      offset = offset if offset >= 1 else int(offset * length)\n",
        "    if limit is None:\n",
        "      limit = length\n",
        "    else:\n",
        "      limit = limit if limit >= 1 else int(limit * length)\n",
        "    return offset, limit"
      ],
      "metadata": {
        "id": "SDmlqzqKYEDU"
      },
      "execution_count": 127,
      "outputs": []
    },
    {
      "cell_type": "code",
      "source": [
        "def build(\n",
        "    data_path: str | pathlib.Path,\n",
        "    window_size: int,\n",
        "    dtype: np.dtype = np.float32,\n",
        "    columns: list[str] | None = None,\n",
        "    offset: int | float = None,\n",
        "    limit: int | float = None) -> tuple[np.ndarray, np.ndarray]:\n",
        "    dataframe = pl.scan_csv(data_path)\n",
        "    length = dataframe.select(pl.count()).collect().item()\n",
        "    offset, limit = calculate_offset_limit(offset, limit, length)\n",
        "    columns = columns or dataframe.columns\n",
        "    dataframe = (\n",
        "        dataframe\n",
        "        .select(columns)\n",
        "        .slice(offset, limit)\n",
        "    )\n",
        "    data_array = dataframe.collect().to_numpy()\n",
        "    dataset = np.lib.stride_tricks.sliding_window_view(\n",
        "        data_array,\n",
        "        window_size + 1,\n",
        "        axis=0\n",
        "        )\n",
        "    return dataset"
      ],
      "metadata": {
        "id": "Xn0RqGqGXPvD"
      },
      "execution_count": 128,
      "outputs": []
    },
    {
      "cell_type": "code",
      "source": [
        "qber_path = pathlib.Path('qber-forecasting')\n",
        "columns = ['e_mu_current', 'e_mu_estimated', 'e_nu_1', 'e_nu_2', 'q_mu', 'q_nu1', 'q_nu2']"
      ],
      "metadata": {
        "id": "03O-HoVGYVMu"
      },
      "execution_count": 129,
      "outputs": []
    },
    {
      "cell_type": "code",
      "source": [
        "train_data = build(qber_path / 'datasets' / 'data.csv', 30, columns=columns, limit=0.75)\n",
        "test_data = build(qber_path / 'datasets' / 'data.csv', 30, columns=columns, offset=0.75)\n",
        "\n",
        "train_x, train_y = train_data[:, 0, :-1], train_data[:, 0, -1]\n",
        "test_x, test_y = test_data[:, 0, :-1], test_data[:, 0, -1]"
      ],
      "metadata": {
        "id": "NEET2oH0YOuS"
      },
      "execution_count": 130,
      "outputs": []
    },
    {
      "cell_type": "code",
      "source": [
        "data = build(qber_path / 'datasets' / 'data.csv', 30, columns=columns)\n",
        "X, y = data[:, 0, :-1], data[:, 0, -1]"
      ],
      "metadata": {
        "id": "b-SI1LrdZSai"
      },
      "execution_count": 133,
      "outputs": []
    },
    {
      "cell_type": "code",
      "source": [
        "model = LinearRegression()\n",
        "tscv = TimeSeriesSplit(n_splits=5)\n",
        "cross_validate(model, X, y, scoring=['r2', 'neg_mean_squared_error', 'neg_root_mean_squared_error'], cv=tscv)"
      ],
      "metadata": {
        "id": "KKIewVO9aj7U"
      },
      "execution_count": null,
      "outputs": []
    },
    {
      "cell_type": "code",
      "source": [
        "class CompositeModel(RegressorMixin, BaseEstimator):\n",
        "    def __init__(self, boost_type: str = 'lgb'):\n",
        "        super().__init__()\n",
        "        self.base = LinearRegression()\n",
        "        self.boost_type = boost_type\n",
        "        assert self.boost_type in ('lgb', 'cb')\n",
        "        if self.boost_type == 'lgb':\n",
        "            self.boost = LGBMRegressor(verbose=-1)\n",
        "        elif self.boost_type == 'cb':\n",
        "            self.boost = CatBoostRegressor(verbose=False)\n",
        "\n",
        "    def fit(self, X, y):\n",
        "        self.base.fit(X, y)\n",
        "        predictions = self.base.predict(X)\n",
        "        diff = y - predictions\n",
        "        self.boost.fit(X, diff)\n",
        "\n",
        "    def predict(self, X):\n",
        "        return self.base.predict(X) + self.boost.predict(X)"
      ],
      "metadata": {
        "id": "AsL7cmMgf8aa"
      },
      "execution_count": 145,
      "outputs": []
    },
    {
      "cell_type": "code",
      "source": [
        "model = CompositeModel('lgb')\n",
        "tscv = TimeSeriesSplit(n_splits=5)\n",
        "cross_validate(model, X, y, scoring=['r2', 'neg_mean_squared_error', 'neg_root_mean_squared_error'], cv=tscv)"
      ],
      "metadata": {
        "colab": {
          "base_uri": "https://localhost:8080/"
        },
        "id": "7vm_rPnLogLY",
        "outputId": "654ed200-db95-4e82-a078-5840a5ac47aa"
      },
      "execution_count": 146,
      "outputs": [
        {
          "output_type": "execute_result",
          "data": {
            "text/plain": [
              "{'fit_time': array([1.08185792, 2.12320447, 5.41279435, 3.1386404 , 4.22732806]),\n",
              " 'score_time': array([0.29574299, 1.15385747, 0.30767798, 0.29849815, 0.34766555]),\n",
              " 'test_r2': array([0.79445223, 0.72936555, 0.47727244, 0.85753899, 0.70282349]),\n",
              " 'test_neg_mean_squared_error': array([-1.29592454e-05, -2.00095976e-06, -1.36893337e-06, -1.03912612e-05,\n",
              "        -9.16492422e-06]),\n",
              " 'test_neg_root_mean_squared_error': array([-0.0035999 , -0.00141455, -0.00117001, -0.00322355, -0.00302736])}"
            ]
          },
          "metadata": {},
          "execution_count": 146
        }
      ]
    },
    {
      "cell_type": "code",
      "source": [
        "for model_type in ('lgb', 'cb'):\n",
        "    model = CompositeModel(model_type)\n",
        "    model.fit(train_x, train_y)\n",
        "    train_preds = model.predict(train_x)\n",
        "    test_preds = model.predict(test_x)\n",
        "    print(model.boost)\n",
        "    print(f'train R2 = {r2_score(train_y, train_preds):.7f}')\n",
        "    print(f'test R2 = {r2_score(test_y, test_preds):.7f}')\n",
        "    print(f'train MSE = {mean_squared_error(train_y, train_preds):.7f}')\n",
        "    print(f'test MSE = {mean_squared_error(test_y, test_preds):.7f}')\n",
        "    print(f'train RMSE = {mean_squared_error(train_y, train_preds, squared=False):.7f}')\n",
        "    print(f'test RMSE = {mean_squared_error(test_y, test_preds, squared=False):.7f}')\n",
        "    print('-' * 60)"
      ],
      "metadata": {
        "colab": {
          "base_uri": "https://localhost:8080/"
        },
        "id": "Ot5dI2Jjj2uv",
        "outputId": "f60334f0-8fa3-45ab-a83d-51a226b7e2be"
      },
      "execution_count": 147,
      "outputs": [
        {
          "output_type": "stream",
          "name": "stdout",
          "text": [
            "LGBMRegressor(verbose=-1)\n",
            "train R2 = 0.8855169\n",
            "test R2 = 0.8148065\n",
            "train MSE = 0.0000021\n",
            "test MSE = 0.0000127\n",
            "train RMSE = 0.0014446\n",
            "test RMSE = 0.0035682\n",
            "------------------------------------------------------------\n",
            "<catboost.core.CatBoostRegressor object at 0x7f2c340bfa90>\n",
            "train R2 = 0.9330754\n",
            "test R2 = 0.8215365\n",
            "train MSE = 0.0000012\n",
            "test MSE = 0.0000123\n",
            "train RMSE = 0.0011045\n",
            "test RMSE = 0.0035028\n",
            "------------------------------------------------------------\n"
          ]
        }
      ]
    }
  ]
}