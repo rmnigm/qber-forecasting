{
  "nbformat": 4,
  "nbformat_minor": 0,
  "metadata": {
    "colab": {
      "provenance": []
    },
    "kernelspec": {
      "name": "python3",
      "display_name": "Python 3"
    },
    "language_info": {
      "name": "python"
    }
  },
  "cells": [
    {
      "cell_type": "markdown",
      "source": [
        "## Imports and setup"
      ],
      "metadata": {
        "id": "AKP6xHLt_MEO"
      }
    },
    {
      "cell_type": "code",
      "source": [
        "!pip install wandb pytorch_lightning torchmetrics polars catboost"
      ],
      "metadata": {
        "id": "wulzdQAF_KAX"
      },
      "execution_count": null,
      "outputs": []
    },
    {
      "cell_type": "code",
      "source": [
        "import os\n",
        "import random\n",
        "import sys\n",
        "import collections\n",
        "import importlib\n",
        "from abc import ABC, abstractmethod\n",
        "\n",
        "import wandb\n",
        "import numpy as np\n",
        "import pandas as pd\n",
        "import polars as pls\n",
        "import matplotlib.pyplot as plt\n",
        "import seaborn as sns\n",
        "import plotly.express as px\n",
        "from tqdm import tqdm, trange\n",
        "\n",
        "import sklearn\n",
        "from sklearn.preprocessing import MinMaxScaler, StandardScaler, QuantileTransformer\n",
        "from sklearn.metrics import r2_score, mean_squared_error, mean_absolute_percentage_error\n",
        "\n",
        "\n",
        "import catboost\n",
        "from catboost import Pool, CatBoostRegressor\n",
        "from catboost import EShapCalcType, EFeaturesSelectionAlgorithm\n",
        "\n",
        "\n",
        "import torch\n",
        "import torchmetrics\n",
        "from torch import nn\n",
        "from torch.nn import functional as F\n",
        "from torch.utils.data import DataLoader\n",
        "from torch.optim import lr_scheduler\n",
        "from torch.utils.data import Dataset, DataLoader\n",
        "\n",
        "from torchmetrics import R2Score, MeanSquaredError, MeanAbsolutePercentageError\n",
        "\n",
        "import pytorch_lightning as pl\n",
        "from pytorch_lightning.callbacks import ModelCheckpoint\n",
        "from pytorch_lightning.loggers import WandbLogger\n",
        "\n",
        "from collections import deque, defaultdict"
      ],
      "metadata": {
        "id": "HFfSiWyNfqPn"
      },
      "execution_count": null,
      "outputs": []
    },
    {
      "cell_type": "code",
      "source": [
        "# optional\n",
        "wandb.login()"
      ],
      "metadata": {
        "colab": {
          "base_uri": "https://localhost:8080/",
          "height": 68
        },
        "id": "tzXydlJCU09q",
        "outputId": "8238f366-778b-4e51-ce9f-785fa18ec982"
      },
      "execution_count": null,
      "outputs": [
        {
          "output_type": "display_data",
          "data": {
            "text/plain": [
              "<IPython.core.display.Javascript object>"
            ],
            "application/javascript": [
              "\n",
              "        window._wandbApiKey = new Promise((resolve, reject) => {\n",
              "            function loadScript(url) {\n",
              "            return new Promise(function(resolve, reject) {\n",
              "                let newScript = document.createElement(\"script\");\n",
              "                newScript.onerror = reject;\n",
              "                newScript.onload = resolve;\n",
              "                document.body.appendChild(newScript);\n",
              "                newScript.src = url;\n",
              "            });\n",
              "            }\n",
              "            loadScript(\"https://cdn.jsdelivr.net/npm/postmate/build/postmate.min.js\").then(() => {\n",
              "            const iframe = document.createElement('iframe')\n",
              "            iframe.style.cssText = \"width:0;height:0;border:none\"\n",
              "            document.body.appendChild(iframe)\n",
              "            const handshake = new Postmate({\n",
              "                container: iframe,\n",
              "                url: 'https://wandb.ai/authorize'\n",
              "            });\n",
              "            const timeout = setTimeout(() => reject(\"Couldn't auto authenticate\"), 5000)\n",
              "            handshake.then(function(child) {\n",
              "                child.on('authorize', data => {\n",
              "                    clearTimeout(timeout)\n",
              "                    resolve(data)\n",
              "                });\n",
              "            });\n",
              "            })\n",
              "        });\n",
              "    "
            ]
          },
          "metadata": {}
        },
        {
          "output_type": "stream",
          "name": "stderr",
          "text": [
            "\u001b[34m\u001b[1mwandb\u001b[0m: Appending key for api.wandb.ai to your netrc file: /root/.netrc\n"
          ]
        },
        {
          "output_type": "execute_result",
          "data": {
            "text/plain": [
              "True"
            ]
          },
          "metadata": {},
          "execution_count": 7
        }
      ]
    },
    {
      "cell_type": "code",
      "source": [
        "seed_everything(123456)\n",
        "device = torch.device('cuda' if torch.cuda.is_available() else 'cpu')\n",
        "device"
      ],
      "metadata": {
        "colab": {
          "base_uri": "https://localhost:8080/"
        },
        "id": "KV9dGAAihNe3",
        "outputId": "d86f7c63-abf6-4607-ba54-9870132203b0"
      },
      "execution_count": null,
      "outputs": [
        {
          "output_type": "execute_result",
          "data": {
            "text/plain": [
              "device(type='cpu')"
            ]
          },
          "metadata": {},
          "execution_count": 8
        }
      ]
    },
    {
      "cell_type": "markdown",
      "source": [
        "## Data"
      ],
      "metadata": {
        "id": "60-fJDV5_WZe"
      }
    },
    {
      "cell_type": "code",
      "source": [
        "!rm -rf qber-forecasting\n",
        "!rm -rf deep_qber\n",
        "!git clone https://github.com/rmnigm/qber-forecasting.git\n",
        "!cp -r qber-forecasting/deep_qber deep_qber"
      ],
      "metadata": {
        "id": "Et_CmbTq2X2G"
      },
      "execution_count": null,
      "outputs": []
    },
    {
      "cell_type": "code",
      "source": [
        "path = \"/content/qber-forecasting/datasets/qber_with_outliers.csv\"\n",
        "raw_dataframe = pd.read_csv(path)\n",
        "\n",
        "info_path = \"/content/qber-forecasting/datasets/outliers_info.csv\"\n",
        "info_dataframe = pd.read_csv(info_path)"
      ],
      "metadata": {
        "id": "C0lRx8wf_aMo"
      },
      "execution_count": null,
      "outputs": []
    },
    {
      "cell_type": "code",
      "source": [
        "with_steps = (\n",
        "    raw_dataframe\n",
        "    .set_index('index')\n",
        "    .join(info_dataframe.set_index('index')[['steps_to_anomaly']],\n",
        "          on='index',\n",
        "          how='left',\n",
        "          rsuffix='_info'\n",
        "          )\n",
        "    )\n",
        "\n",
        "with_steps['outliers'] = (with_steps['steps_to_anomaly'] == 0).astype(int)\n",
        "wo_junk = with_steps.drop(columns='steps_to_anomaly')"
      ],
      "metadata": {
        "id": "62gD2uUe3SuX"
      },
      "execution_count": null,
      "outputs": []
    },
    {
      "cell_type": "code",
      "source": [
        "from deep_qber.dataset import TorchDatasetInterface"
      ],
      "metadata": {
        "id": "Meujthoy_cGO"
      },
      "execution_count": null,
      "outputs": []
    },
    {
      "cell_type": "code",
      "source": [
        "window_size = 20\n",
        "start = 20\n",
        "end = len(raw_dataframe)\n",
        "target_column = 'e_mu_current'\n",
        "anomaly_column = 'outliers'\n",
        "\n",
        "datavault = TorchDatasetInterface(wo_junk,\n",
        "                                  target_column,\n",
        "                                  anomaly_column='outliers',\n",
        "                                  window_size=20,\n",
        "                                  train_size=0.75\n",
        "                                  )"
      ],
      "metadata": {
        "id": "oHJ4jPDr_h83"
      },
      "execution_count": null,
      "outputs": []
    },
    {
      "cell_type": "code",
      "source": [
        "datavault.setup(20, end, from_files=False)\n",
        "dataloaders = datavault.get_dataloaders(anomaly_split=True, device=device)"
      ],
      "metadata": {
        "id": "1o9lKBE1_m40"
      },
      "execution_count": null,
      "outputs": []
    },
    {
      "cell_type": "markdown",
      "source": [
        "## Model"
      ],
      "metadata": {
        "id": "5ohECzz4_omj"
      }
    },
    {
      "cell_type": "code",
      "source": [
        "config = {\n",
        "    \"learning_rate\": 1e-5,\n",
        "    \"look_back\": window_size,\n",
        "    \"hidden_size\": 256,\n",
        "    \"output_size\": 1,\n",
        "    \"input_size\": 7,\n",
        "    \"batch_size\": 256,\n",
        "    \"epochs\": 10,\n",
        "    \"loss\": \"MSE\",\n",
        "    \"scaler\": None,\n",
        "    \"train_size\": 0.75,\n",
        "}\n",
        "\n",
        "loss = nn.MSELoss()\n",
        "scaler = None"
      ],
      "metadata": {
        "id": "cxYAmo2G_rYz"
      },
      "execution_count": null,
      "outputs": []
    },
    {
      "cell_type": "code",
      "source": [
        "from deep_qber.model import ModuleTS, ModelInterfaceTS\n",
        "from deep_qber.model import Extractor, ExtractorExod, ExtractorLSTM"
      ],
      "metadata": {
        "id": "YOg6HXJ4_t-k"
      },
      "execution_count": null,
      "outputs": []
    },
    {
      "cell_type": "code",
      "source": [
        "def run_experiment(train_loader, test_loader, model, loss, config, device):\n",
        "    with wandb.init(project=\"qber_v2\",\n",
        "                    entity=\"rmnigm\",\n",
        "                    settings=wandb.Settings(start_method=\"thread\"),\n",
        "                    config=config,\n",
        "                    ) as run:\n",
        "        wandb_logger = WandbLogger(log_model='all')\n",
        "        checkpoint_callback = ModelCheckpoint(monitor=\"Validation R2Score\", mode=\"max\")\n",
        "\n",
        "        epochs = config[\"epochs\"]\n",
        "\n",
        "        model_interface = ModelInterfaceTS(model, device)\n",
        "        module = ModuleTS(model_interface, loss, lr=config[\"learning_rate\"])\n",
        "\n",
        "        trainer = pl.Trainer(logger=wandb_logger,\n",
        "                            callbacks=[checkpoint_callback],\n",
        "                            accelerator=\"gpu\",\n",
        "                            max_epochs=epochs,\n",
        "                            )\n",
        "\n",
        "        trainer.fit(module, train_loader, test_loader)\n",
        "\n",
        "        run.finish()"
      ],
      "metadata": {
        "id": "qCEv7kr1_3pO"
      },
      "execution_count": null,
      "outputs": []
    },
    {
      "cell_type": "code",
      "source": [
        "model = ExtractorLSTM(\n",
        "    look_back=config[\"look_back\"],\n",
        "    output_size=config[\"output_size\"],\n",
        "    input_size=config[\"input_size\"],\n",
        "    hidden_size=config[\"hidden_size\"],\n",
        "    )"
      ],
      "metadata": {
        "id": "AEwdgv-G_yYb"
      },
      "execution_count": null,
      "outputs": []
    },
    {
      "cell_type": "code",
      "source": [
        "config[\"model\"] = \"lstm; normal data\"\n",
        "run_experiment(train_normal_loader, test_normal_loader, model, loss, config, device)"
      ],
      "metadata": {
        "id": "_aYuOkX__7hl"
      },
      "execution_count": null,
      "outputs": []
    },
    {
      "cell_type": "code",
      "source": [
        "config[\"model\"] = \"lstm; anomaly data\"\n",
        "run_experiment(train_anomaly_loader, test_anomaly_loader, model, loss, config, device)"
      ],
      "metadata": {
        "id": "6RdY-NAq_8Nm"
      },
      "execution_count": null,
      "outputs": []
    }
  ]
}